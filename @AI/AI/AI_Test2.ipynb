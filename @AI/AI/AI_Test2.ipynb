{
 "cells": [
  {
   "cell_type": "markdown",
   "metadata": {},
   "source": [
    "# Mic check"
   ]
  },
  {
   "cell_type": "code",
   "execution_count": 75,
   "metadata": {},
   "outputs": [
    {
     "name": "stdout",
     "output_type": "stream",
     "text": [
      "{'name': 'MacBook Air 마이크', 'index': 3, 'hostapi': 0, 'max_input_channels': 1, 'max_output_channels': 0, 'default_low_input_latency': 0.0336875, 'default_low_output_latency': 0.01, 'default_high_input_latency': 0.043020833333333335, 'default_high_output_latency': 0.1, 'default_samplerate': 48000.0}\n"
     ]
    }
   ],
   "source": [
    "import sounddevice as sd\n",
    "\n",
    "\n",
    "def get_default_input_device_info():\n",
    "    default_input_device = sd.default.device[0]  # get the ID of the default input device\n",
    "    device_info = sd.query_devices(default_input_device)\n",
    "    print(device_info)\n",
    "\n",
    "# Get the info of the default input device\n",
    "get_default_input_device_info()\n"
   ]
  },
  {
   "cell_type": "code",
   "execution_count": 76,
   "metadata": {},
   "outputs": [
    {
     "name": "stdout",
     "output_type": "stream",
     "text": [
      "Device #1 name: 갤럭시 S2 마이크\n",
      "Device #2 name: USB PnP Sound Device\n",
      "Device #3 name: MacBook Air 마이크\n"
     ]
    }
   ],
   "source": [
    "import sounddevice as sd\n",
    "\n",
    "def list_input_devices():\n",
    "    devices = sd.query_devices()\n",
    "    for i, device in enumerate(devices):\n",
    "        if device['max_input_channels'] > 0:  # this is an input device\n",
    "            print(f\"Device #{i} name: {device['name']}\")\n",
    "\n",
    "# List available input devices (including microphones)\n",
    "list_input_devices()"
   ]
  },
  {
   "cell_type": "code",
   "execution_count": 77,
   "metadata": {},
   "outputs": [
    {
     "name": "stdout",
     "output_type": "stream",
     "text": [
      "||||||||||"
     ]
    }
   ],
   "source": [
    "import numpy as np\n",
    "\n",
    "# Choose the device to use for recording\n",
    "device_id = 2  # replace with the ID of the device you want to use\n",
    "duration = 3  # seconds\n",
    "\n",
    "# Create a buffer to store the audio data\n",
    "buffer = np.zeros((duration * 44100,))\n",
    "buffer_index = 0\n",
    "\n",
    "# Define a callback function to process the audio input\n",
    "def audio_callback(indata, frames, time, status):\n",
    "    global buffer_index\n",
    "    volume_norm = np.linalg.norm(indata) * 10\n",
    "    print(f'\\r{\"|\" * int(volume_norm)}', end='')  # print a simple \"volume bar\"\n",
    "\n",
    "    # Store the incoming data in the buffer\n",
    "    buffer[buffer_index:buffer_index+frames] = indata[:, 0]\n",
    "    buffer_index += frames\n",
    "\n",
    "# Create a stream object\n",
    "stream = sd.InputStream(callback=audio_callback, device=device_id, channels=1, samplerate=44100)\n",
    "\n",
    "# Start the stream\n",
    "with stream:\n",
    "    # Record for 3 seconds\n",
    "    sd.sleep(duration * 1000)\n",
    "\n",
    "# Play back the recorded sound\n",
    "sd.play(buffer, samplerate=44100)"
   ]
  },
  {
   "attachments": {},
   "cell_type": "markdown",
   "metadata": {},
   "source": [
    "### Import models\n"
   ]
  },
  {
   "cell_type": "code",
   "execution_count": 78,
   "metadata": {},
   "outputs": [
    {
     "name": "stdout",
     "output_type": "stream",
     "text": [
      "1. BestModel_1.pth\n",
      "2. BestModel_10.pth\n",
      "3. BestModel_11.pth\n",
      "4. BestModel_12.pth\n",
      "5. BestModel_13.pth\n",
      "6. BestModel_14.pth\n",
      "7. BestModel_15.pth\n",
      "8. BestModel_2.pth\n",
      "9. BestModel_3.pth\n",
      "10. BestModel_4.pth\n",
      "11. BestModel_5.pth\n",
      "12. BestModel_6.pth\n",
      "13. BestModel_7.pth\n",
      "14. BestModel_8.pth\n",
      "15. BestModel_9.pth\n",
      "16. Model2_001.pth\n",
      "17. Model2_002.pth\n",
      "18. Model2_003.pth\n",
      "19. Model2_004.pth\n",
      "Model loaded from models/Model2_004.pth\n"
     ]
    }
   ],
   "source": [
    "import os\n",
    "import torch\n",
    "import torch.nn as nn\n",
    "import torchvision.models as models\n",
    "from torchvision.models import resnet18\n",
    "\n",
    "def load_model_interactive(model_dir=\"models\"):\n",
    "    # List all models in the directory\n",
    "    model_files = [f for f in os.listdir(model_dir) if f.endswith('.pth') and not f.startswith('._')]\n",
    "    \n",
    "    # Display the models to the user\n",
    "    for idx, model_name in enumerate(model_files, 1):\n",
    "        print(f\"{idx}. {model_name}\")\n",
    "    \n",
    "    # Get user input\n",
    "    selected_idx = int(input(\"Enter the number corresponding to the model you wish to load: \")) - 1\n",
    "    model_path = os.path.join(model_dir, model_files[selected_idx])\n",
    "    model = None   \n",
    "    try:\n",
    "            device = torch.device(\"cuda\" if torch.cuda.is_available() else \"cpu\")\n",
    "            \n",
    "            # Load the resnet18 model structure\n",
    "            model = resnet18(pretrained=False)\n",
    "            num_ftrs = model.fc.in_features\n",
    "            model.fc = nn.Linear(512, 14)  # Assuming selected_labels is globally accessible\n",
    "            \n",
    "            # Load the state dict\n",
    "            state_dict = torch.load(model_path, map_location=device)\n",
    "            new_state_dict = {k.replace(\"module.\", \"\"): v for k, v in state_dict.items()}\n",
    "            model.load_state_dict(new_state_dict)\n",
    "            \n",
    "            print(f\"Model loaded from {model_path}\")\n",
    "            model = model.to(device)\n",
    "            model = model.eval()\n",
    "    except Exception as e:\n",
    "        print(f\"Failed to load the model. Error: {e}\")\n",
    "\n",
    "    return model\n",
    "\n",
    "# For demonstration purposes, the function will display model names but won't actually load them here.\n",
    "# Please run this in your local environment for actual model loading.\n",
    "model = load_model_interactive()"
   ]
  },
  {
   "cell_type": "code",
   "execution_count": 79,
   "metadata": {},
   "outputs": [],
   "source": [
    "class MinMaxNormalize(nn.Module):\n",
    "    def __init__(self, min_val=None, max_val=None):\n",
    "        super(MinMaxNormalize, self).__init__()\n",
    "        self.min_val = min_val\n",
    "        self.max_val = max_val\n",
    "\n",
    "    def forward(self, tensor):\n",
    "        if self.min_val is None or self.max_val is None:\n",
    "            min_val = torch.min(tensor)\n",
    "            max_val = torch.max(tensor)\n",
    "        else:\n",
    "            min_val = self.min_val\n",
    "            max_val = self.max_val\n",
    "        \n",
    "        normalized_tensor = (tensor - min_val) / (max_val - min_val)\n",
    "        return normalized_tensor"
   ]
  },
  {
   "cell_type": "code",
   "execution_count": 80,
   "metadata": {},
   "outputs": [],
   "source": [
    "class MonoToColor(nn.Module):\n",
    "    def __init__(self, num_channels=3):\n",
    "        super(MonoToColor, self).__init__()\n",
    "        self.num_channels = num_channels\n",
    "\n",
    "    def forward(self, tensor):\n",
    "        return tensor.repeat(self.num_channels, 1, 1)"
   ]
  },
  {
   "cell_type": "code",
   "execution_count": 81,
   "metadata": {},
   "outputs": [],
   "source": [
    "SAMPLE_RATE = 22050\n",
    "\n",
    "# Apply the same transformation as used during training\n",
    "transformation = transforms.Compose([\n",
    "    torchaudio.transforms.MelSpectrogram(sample_rate=SAMPLE_RATE, n_mels=40),# higher the better but more complex. For talking we use 128, for sound effect, about 40.\n",
    "    torchaudio.transforms.AmplitudeToDB(stype='power', top_db=80),\n",
    "    MinMaxNormalize(),\n",
    "    MonoToColor()\n",
    "])"
   ]
  },
  {
   "cell_type": "code",
   "execution_count": 82,
   "metadata": {},
   "outputs": [
    {
     "data": {
      "text/plain": [
       "<function __main__.continuous_sound_prediction(model, device, transformation, sample_rate, target_sample_rate)>"
      ]
     },
     "execution_count": 82,
     "metadata": {},
     "output_type": "execute_result"
    }
   ],
   "source": [
    "def continuous_sound_prediction(model, device, transformation, sample_rate, target_sample_rate):\n",
    "    # Define class labels\n",
    "    labels = [\n",
    "        \"children\", \"nothing2\", \"drilling\", \"engine\", \"siren\", \n",
    "        \"gunshot\", \"aircon\", \"jackhammer\", \"carhorn\", \"glass\", \n",
    "        \"nock\", \"street_music\", \"dog_bark\", \"nothing1\"\n",
    "    ]\n",
    "\n",
    "    count = 0\n",
    "    while count <= 100:\n",
    "        try:\n",
    "            # Record a 2 seconds mono audio at the specified sample rate\n",
    "            duration = 2.0  # seconds\n",
    "            recording = sd.rec(int(duration * sample_rate), samplerate=sample_rate, channels=1)\n",
    "            sd.wait()\n",
    "\n",
    "            # Convert to PyTorch tensor and switch channels and frames\n",
    "            recording = torch.from_numpy(recording).float()\n",
    "            recording = torch.transpose(recording, 0, 1)\n",
    "\n",
    "            # Resample if necessary\n",
    "            if sample_rate != target_sample_rate:\n",
    "                resampler = torchaudio.transforms.Resample(sample_rate, target_sample_rate)\n",
    "                recording = resampler(recording)\n",
    "\n",
    "            # Mix down if necessary\n",
    "            if recording.shape[0] > 1:\n",
    "                recording = torch.mean(recording, dim=0, keepdim=True)\n",
    "\n",
    "            # Cut or pad if necessary\n",
    "            if recording.shape[1] > target_sample_rate:\n",
    "                recording = recording[:, :target_sample_rate]\n",
    "            elif recording.shape[1] < target_sample_rate:\n",
    "                num_missing_samples = target_sample_rate - recording.shape[1]\n",
    "                last_dim_padding = (0, num_missing_samples)\n",
    "                recording = nn.functional.pad(recording, last_dim_padding)\n",
    "\n",
    "            # Apply transformation\n",
    "            recording = transformation(recording)\n",
    "\n",
    "            # Make the prediction\n",
    "            model.eval()\n",
    "            with torch.no_grad():\n",
    "                recording = recording.to(device)\n",
    "                outputs = model(recording[None, ...])\n",
    "                probabilities = F.softmax(outputs, dim=1)\n",
    "                _, predicted = torch.max(outputs, 1)\n",
    "\n",
    "            # Get predicted label and its corresponding probability\n",
    "            predicted_label = labels[predicted.item()]\n",
    "            predicted_confidence = probabilities[0, predicted.item()].item()\n",
    "\n",
    "            # Print the probabilities of all labels in one line\n",
    "            prob_strs = [f\"{label} {probabilities[0, idx].item():.2%}\" for idx, label in enumerate(labels)]\n",
    "            print(f\"{count} / \" + \" / \".join(prob_strs))\n",
    "\n",
    "            count += 1\n",
    "        except Exception as e:\n",
    "            print(f\"Error during prediction: {e}\")\n",
    "            break\n",
    "\n",
    "    print(\"Finished continuous sound prediction.\")\n",
    "\n",
    "continuous_sound_prediction"
   ]
  },
  {
   "cell_type": "code",
   "execution_count": 85,
   "metadata": {},
   "outputs": [
    {
     "name": "stdout",
     "output_type": "stream",
     "text": [
      "0 / children 1.24% / nothing2 0.01% / drilling 0.50% / engine 0.01% / siren 95.75% / gunshot 0.35% / aircon 0.02% / jackhammer 0.26% / carhorn 1.75% / glass 0.00% / nock 0.00% / street_music 0.02% / dog_bark 0.00% / nothing1 0.10%\n",
      "1 / children 1.23% / nothing2 0.01% / drilling 0.50% / engine 0.01% / siren 95.74% / gunshot 0.34% / aircon 0.02% / jackhammer 0.26% / carhorn 1.77% / glass 0.00% / nock 0.00% / street_music 0.02% / dog_bark 0.00% / nothing1 0.10%\n",
      "2 / children 1.24% / nothing2 0.01% / drilling 0.50% / engine 0.01% / siren 95.72% / gunshot 0.35% / aircon 0.02% / jackhammer 0.26% / carhorn 1.77% / glass 0.00% / nock 0.00% / street_music 0.02% / dog_bark 0.00% / nothing1 0.10%\n",
      "3 / children 1.25% / nothing2 0.01% / drilling 0.50% / engine 0.01% / siren 95.72% / gunshot 0.35% / aircon 0.02% / jackhammer 0.26% / carhorn 1.76% / glass 0.00% / nock 0.00% / street_music 0.02% / dog_bark 0.00% / nothing1 0.10%\n",
      "4 / children 1.23% / nothing2 0.01% / drilling 0.50% / engine 0.01% / siren 95.73% / gunshot 0.35% / aircon 0.02% / jackhammer 0.26% / carhorn 1.77% / glass 0.00% / nock 0.00% / street_music 0.02% / dog_bark 0.00% / nothing1 0.10%\n",
      "5 / children 1.24% / nothing2 0.01% / drilling 0.50% / engine 0.01% / siren 95.72% / gunshot 0.35% / aircon 0.02% / jackhammer 0.26% / carhorn 1.77% / glass 0.00% / nock 0.00% / street_music 0.02% / dog_bark 0.00% / nothing1 0.10%\n",
      "6 / children 1.22% / nothing2 0.01% / drilling 0.50% / engine 0.01% / siren 95.77% / gunshot 0.34% / aircon 0.02% / jackhammer 0.26% / carhorn 1.75% / glass 0.00% / nock 0.00% / street_music 0.02% / dog_bark 0.00% / nothing1 0.10%\n",
      "7 / children 1.23% / nothing2 0.01% / drilling 0.50% / engine 0.01% / siren 95.73% / gunshot 0.35% / aircon 0.02% / jackhammer 0.26% / carhorn 1.77% / glass 0.00% / nock 0.00% / street_music 0.02% / dog_bark 0.00% / nothing1 0.10%\n",
      "8 / children 1.24% / nothing2 0.01% / drilling 0.50% / engine 0.01% / siren 95.74% / gunshot 0.35% / aircon 0.02% / jackhammer 0.26% / carhorn 1.76% / glass 0.00% / nock 0.00% / street_music 0.02% / dog_bark 0.00% / nothing1 0.10%\n",
      "9 / children 1.24% / nothing2 0.01% / drilling 0.50% / engine 0.01% / siren 95.72% / gunshot 0.35% / aircon 0.02% / jackhammer 0.26% / carhorn 1.77% / glass 0.00% / nock 0.00% / street_music 0.02% / dog_bark 0.00% / nothing1 0.10%\n",
      "10 / children 1.24% / nothing2 0.01% / drilling 0.50% / engine 0.01% / siren 95.76% / gunshot 0.35% / aircon 0.02% / jackhammer 0.26% / carhorn 1.73% / glass 0.00% / nock 0.00% / street_music 0.02% / dog_bark 0.00% / nothing1 0.10%\n",
      "11 / children 1.23% / nothing2 0.01% / drilling 0.50% / engine 0.01% / siren 95.74% / gunshot 0.35% / aircon 0.02% / jackhammer 0.26% / carhorn 1.76% / glass 0.00% / nock 0.00% / street_music 0.02% / dog_bark 0.00% / nothing1 0.10%\n",
      "12 / children 1.23% / nothing2 0.01% / drilling 0.50% / engine 0.01% / siren 95.75% / gunshot 0.35% / aircon 0.02% / jackhammer 0.26% / carhorn 1.75% / glass 0.00% / nock 0.00% / street_music 0.02% / dog_bark 0.00% / nothing1 0.10%\n",
      "13 / children 1.12% / nothing2 0.01% / drilling 0.47% / engine 0.01% / siren 96.13% / gunshot 0.31% / aircon 0.01% / jackhammer 0.25% / carhorn 1.58% / glass 0.00% / nock 0.00% / street_music 0.02% / dog_bark 0.00% / nothing1 0.09%\n",
      "14 / children 1.22% / nothing2 0.01% / drilling 0.49% / engine 0.01% / siren 95.76% / gunshot 0.34% / aircon 0.02% / jackhammer 0.26% / carhorn 1.77% / glass 0.00% / nock 0.00% / street_music 0.02% / dog_bark 0.00% / nothing1 0.10%\n",
      "15 / children 1.22% / nothing2 0.01% / drilling 0.49% / engine 0.01% / siren 95.78% / gunshot 0.34% / aircon 0.02% / jackhammer 0.26% / carhorn 1.76% / glass 0.00% / nock 0.00% / street_music 0.02% / dog_bark 0.00% / nothing1 0.10%\n",
      "16 / children 1.22% / nothing2 0.01% / drilling 0.49% / engine 0.01% / siren 95.77% / gunshot 0.34% / aircon 0.02% / jackhammer 0.26% / carhorn 1.76% / glass 0.00% / nock 0.00% / street_music 0.02% / dog_bark 0.00% / nothing1 0.10%\n",
      "17 / children 1.21% / nothing2 0.01% / drilling 0.49% / engine 0.01% / siren 95.79% / gunshot 0.34% / aircon 0.02% / jackhammer 0.26% / carhorn 1.75% / glass 0.00% / nock 0.00% / street_music 0.02% / dog_bark 0.00% / nothing1 0.10%\n",
      "18 / children 1.23% / nothing2 0.01% / drilling 0.49% / engine 0.01% / siren 95.75% / gunshot 0.34% / aircon 0.02% / jackhammer 0.26% / carhorn 1.77% / glass 0.00% / nock 0.00% / street_music 0.02% / dog_bark 0.00% / nothing1 0.10%\n",
      "19 / children 1.23% / nothing2 0.01% / drilling 0.50% / engine 0.01% / siren 95.73% / gunshot 0.35% / aircon 0.02% / jackhammer 0.26% / carhorn 1.78% / glass 0.00% / nock 0.00% / street_music 0.02% / dog_bark 0.00% / nothing1 0.10%\n",
      "20 / children 1.22% / nothing2 0.01% / drilling 0.49% / engine 0.01% / siren 95.73% / gunshot 0.35% / aircon 0.02% / jackhammer 0.26% / carhorn 1.79% / glass 0.00% / nock 0.00% / street_music 0.02% / dog_bark 0.00% / nothing1 0.10%\n",
      "21 / children 1.22% / nothing2 0.01% / drilling 0.49% / engine 0.01% / siren 95.74% / gunshot 0.34% / aircon 0.02% / jackhammer 0.26% / carhorn 1.78% / glass 0.00% / nock 0.00% / street_music 0.02% / dog_bark 0.00% / nothing1 0.10%\n",
      "22 / children 1.23% / nothing2 0.01% / drilling 0.50% / engine 0.01% / siren 95.74% / gunshot 0.34% / aircon 0.02% / jackhammer 0.26% / carhorn 1.78% / glass 0.00% / nock 0.00% / street_music 0.02% / dog_bark 0.00% / nothing1 0.10%\n",
      "23 / children 1.22% / nothing2 0.01% / drilling 0.49% / engine 0.01% / siren 95.75% / gunshot 0.34% / aircon 0.02% / jackhammer 0.26% / carhorn 1.77% / glass 0.00% / nock 0.00% / street_music 0.02% / dog_bark 0.00% / nothing1 0.10%\n",
      "24 / children 1.14% / nothing2 0.01% / drilling 0.50% / engine 0.01% / siren 96.06% / gunshot 0.32% / aircon 0.01% / jackhammer 0.26% / carhorn 1.57% / glass 0.00% / nock 0.00% / street_music 0.02% / dog_bark 0.00% / nothing1 0.10%\n",
      "25 / children 0.93% / nothing2 0.01% / drilling 0.46% / engine 0.01% / siren 96.63% / gunshot 0.27% / aircon 0.01% / jackhammer 0.25% / carhorn 1.34% / glass 0.00% / nock 0.00% / street_music 0.01% / dog_bark 0.00% / nothing1 0.08%\n",
      "26 / children 0.92% / nothing2 0.01% / drilling 0.45% / engine 0.01% / siren 96.64% / gunshot 0.27% / aircon 0.01% / jackhammer 0.25% / carhorn 1.35% / glass 0.00% / nock 0.00% / street_music 0.01% / dog_bark 0.00% / nothing1 0.08%\n",
      "27 / children 0.92% / nothing2 0.01% / drilling 0.45% / engine 0.01% / siren 96.59% / gunshot 0.28% / aircon 0.01% / jackhammer 0.25% / carhorn 1.39% / glass 0.00% / nock 0.00% / street_music 0.01% / dog_bark 0.00% / nothing1 0.08%\n",
      "28 / children 0.93% / nothing2 0.01% / drilling 0.45% / engine 0.01% / siren 96.61% / gunshot 0.27% / aircon 0.01% / jackhammer 0.25% / carhorn 1.36% / glass 0.00% / nock 0.00% / street_music 0.01% / dog_bark 0.00% / nothing1 0.08%\n",
      "29 / children 0.93% / nothing2 0.01% / drilling 0.46% / engine 0.01% / siren 96.62% / gunshot 0.28% / aircon 0.01% / jackhammer 0.25% / carhorn 1.34% / glass 0.00% / nock 0.00% / street_music 0.01% / dog_bark 0.00% / nothing1 0.08%\n",
      "30 / children 0.93% / nothing2 0.01% / drilling 0.46% / engine 0.01% / siren 96.62% / gunshot 0.28% / aircon 0.01% / jackhammer 0.25% / carhorn 1.34% / glass 0.00% / nock 0.00% / street_music 0.01% / dog_bark 0.00% / nothing1 0.08%\n",
      "31 / children 0.94% / nothing2 0.01% / drilling 0.46% / engine 0.01% / siren 96.58% / gunshot 0.28% / aircon 0.01% / jackhammer 0.25% / carhorn 1.37% / glass 0.00% / nock 0.00% / street_music 0.02% / dog_bark 0.00% / nothing1 0.08%\n",
      "32 / children 0.93% / nothing2 0.01% / drilling 0.45% / engine 0.01% / siren 96.63% / gunshot 0.27% / aircon 0.01% / jackhammer 0.24% / carhorn 1.34% / glass 0.00% / nock 0.00% / street_music 0.01% / dog_bark 0.00% / nothing1 0.08%\n",
      "33 / children 0.95% / nothing2 0.01% / drilling 0.46% / engine 0.01% / siren 96.58% / gunshot 0.28% / aircon 0.01% / jackhammer 0.25% / carhorn 1.36% / glass 0.00% / nock 0.00% / street_music 0.02% / dog_bark 0.00% / nothing1 0.09%\n",
      "34 / children 1.19% / nothing2 0.01% / drilling 0.49% / engine 0.01% / siren 95.83% / gunshot 0.34% / aircon 0.01% / jackhammer 0.26% / carhorn 1.74% / glass 0.00% / nock 0.00% / street_music 0.02% / dog_bark 0.00% / nothing1 0.10%\n",
      "35 / children 1.16% / nothing2 0.01% / drilling 0.47% / engine 0.01% / siren 95.77% / gunshot 0.34% / aircon 0.02% / jackhammer 0.26% / carhorn 1.84% / glass 0.00% / nock 0.00% / street_music 0.02% / dog_bark 0.00% / nothing1 0.10%\n",
      "36 / children 1.20% / nothing2 0.01% / drilling 0.49% / engine 0.01% / siren 95.79% / gunshot 0.34% / aircon 0.01% / jackhammer 0.26% / carhorn 1.77% / glass 0.00% / nock 0.00% / street_music 0.02% / dog_bark 0.00% / nothing1 0.10%\n",
      "37 / children 1.06% / nothing2 0.01% / drilling 0.46% / engine 0.01% / siren 96.27% / gunshot 0.30% / aircon 0.01% / jackhammer 0.24% / carhorn 1.54% / glass 0.00% / nock 0.00% / street_music 0.02% / dog_bark 0.00% / nothing1 0.09%\n",
      "38 / children 0.97% / nothing2 0.01% / drilling 0.43% / engine 0.01% / siren 96.44% / gunshot 0.28% / aircon 0.01% / jackhammer 0.24% / carhorn 1.52% / glass 0.00% / nock 0.00% / street_music 0.02% / dog_bark 0.00% / nothing1 0.08%\n",
      "39 / children 0.99% / nothing2 0.01% / drilling 0.45% / engine 0.01% / siren 96.47% / gunshot 0.28% / aircon 0.01% / jackhammer 0.24% / carhorn 1.45% / glass 0.00% / nock 0.00% / street_music 0.02% / dog_bark 0.00% / nothing1 0.09%\n",
      "40 / children 0.99% / nothing2 0.01% / drilling 0.46% / engine 0.01% / siren 96.45% / gunshot 0.28% / aircon 0.01% / jackhammer 0.25% / carhorn 1.44% / glass 0.00% / nock 0.00% / street_music 0.02% / dog_bark 0.00% / nothing1 0.09%\n",
      "41 / children 1.07% / nothing2 0.01% / drilling 0.47% / engine 0.01% / siren 96.27% / gunshot 0.30% / aircon 0.01% / jackhammer 0.24% / carhorn 1.51% / glass 0.00% / nock 0.00% / street_music 0.02% / dog_bark 0.00% / nothing1 0.09%\n",
      "42 / children 1.02% / nothing2 0.01% / drilling 0.44% / engine 0.01% / siren 96.30% / gunshot 0.30% / aircon 0.01% / jackhammer 0.24% / carhorn 1.57% / glass 0.00% / nock 0.00% / street_music 0.02% / dog_bark 0.00% / nothing1 0.09%\n",
      "43 / children 1.02% / nothing2 0.01% / drilling 0.45% / engine 0.01% / siren 96.30% / gunshot 0.30% / aircon 0.01% / jackhammer 0.24% / carhorn 1.55% / glass 0.00% / nock 0.00% / street_music 0.02% / dog_bark 0.00% / nothing1 0.09%\n",
      "44 / children 1.02% / nothing2 0.01% / drilling 0.45% / engine 0.01% / siren 96.32% / gunshot 0.30% / aircon 0.01% / jackhammer 0.24% / carhorn 1.54% / glass 0.00% / nock 0.00% / street_music 0.02% / dog_bark 0.00% / nothing1 0.09%\n",
      "45 / children 1.00% / nothing2 0.01% / drilling 0.44% / engine 0.01% / siren 96.26% / gunshot 0.30% / aircon 0.01% / jackhammer 0.25% / carhorn 1.62% / glass 0.00% / nock 0.00% / street_music 0.02% / dog_bark 0.00% / nothing1 0.09%\n",
      "46 / children 1.03% / nothing2 0.01% / drilling 0.46% / engine 0.01% / siren 96.42% / gunshot 0.29% / aircon 0.01% / jackhammer 0.24% / carhorn 1.43% / glass 0.00% / nock 0.00% / street_music 0.02% / dog_bark 0.00% / nothing1 0.09%\n",
      "47 / children 1.06% / nothing2 0.01% / drilling 0.46% / engine 0.01% / siren 96.26% / gunshot 0.30% / aircon 0.01% / jackhammer 0.24% / carhorn 1.54% / glass 0.00% / nock 0.00% / street_music 0.02% / dog_bark 0.00% / nothing1 0.09%\n",
      "48 / children 1.07% / nothing2 0.01% / drilling 0.47% / engine 0.01% / siren 96.26% / gunshot 0.30% / aircon 0.01% / jackhammer 0.25% / carhorn 1.51% / glass 0.00% / nock 0.00% / street_music 0.02% / dog_bark 0.00% / nothing1 0.09%\n"
     ]
    },
    {
     "ename": "KeyboardInterrupt",
     "evalue": "",
     "output_type": "error",
     "traceback": [
      "\u001b[0;31m---------------------------------------------------------------------------\u001b[0m",
      "\u001b[0;31mKeyboardInterrupt\u001b[0m                         Traceback (most recent call last)",
      "Cell \u001b[0;32mIn[85], line 68\u001b[0m\n\u001b[1;32m     65\u001b[0m device_id \u001b[39m=\u001b[39m \u001b[39m2\u001b[39m  \u001b[39m# Replace with the ID of the device you want to use\u001b[39;00m\n\u001b[1;32m     67\u001b[0m \u001b[39m# Call the function\u001b[39;00m\n\u001b[0;32m---> 68\u001b[0m continuous_sound_prediction(model, device, transformation, SAMPLE_RATE, SAMPLE_RATE, device_id)\n",
      "Cell \u001b[0;32mIn[85], line 15\u001b[0m, in \u001b[0;36mcontinuous_sound_prediction\u001b[0;34m(model, device, transformation, sample_rate, target_sample_rate, device_id)\u001b[0m\n\u001b[1;32m     13\u001b[0m duration \u001b[39m=\u001b[39m \u001b[39m2.0\u001b[39m  \u001b[39m# seconds\u001b[39;00m\n\u001b[1;32m     14\u001b[0m recording \u001b[39m=\u001b[39m sd\u001b[39m.\u001b[39mrec(\u001b[39mint\u001b[39m(duration \u001b[39m*\u001b[39m sample_rate), samplerate\u001b[39m=\u001b[39msample_rate, channels\u001b[39m=\u001b[39m\u001b[39m1\u001b[39m, device\u001b[39m=\u001b[39mdevice_id)\n\u001b[0;32m---> 15\u001b[0m sd\u001b[39m.\u001b[39mwait()\n\u001b[1;32m     17\u001b[0m \u001b[39m# Convert to PyTorch tensor and switch channels and frames\u001b[39;00m\n\u001b[1;32m     18\u001b[0m recording \u001b[39m=\u001b[39m torch\u001b[39m.\u001b[39mfrom_numpy(recording)\u001b[39m.\u001b[39mfloat()\n",
      "File \u001b[0;32m~/anaconda3/envs/torchenv/lib/python3.11/site-packages/sounddevice.py:395\u001b[0m, in \u001b[0;36mwait\u001b[0;34m(ignore_errors)\u001b[0m\n\u001b[1;32m    379\u001b[0m \u001b[39m\u001b[39m\u001b[39m\"\"\"Wait for `play()`/`rec()`/`playrec()` to be finished.\u001b[39;00m\n\u001b[1;32m    380\u001b[0m \n\u001b[1;32m    381\u001b[0m \u001b[39mPlayback/recording can be stopped with a `KeyboardInterrupt`.\u001b[39;00m\n\u001b[0;32m   (...)\u001b[0m\n\u001b[1;32m    392\u001b[0m \n\u001b[1;32m    393\u001b[0m \u001b[39m\"\"\"\u001b[39;00m\n\u001b[1;32m    394\u001b[0m \u001b[39mif\u001b[39;00m _last_callback:\n\u001b[0;32m--> 395\u001b[0m     \u001b[39mreturn\u001b[39;00m _last_callback\u001b[39m.\u001b[39mwait(ignore_errors)\n",
      "File \u001b[0;32m~/anaconda3/envs/torchenv/lib/python3.11/site-packages/sounddevice.py:2601\u001b[0m, in \u001b[0;36m_CallbackContext.wait\u001b[0;34m(self, ignore_errors)\u001b[0m\n\u001b[1;32m   2595\u001b[0m \u001b[39m\u001b[39m\u001b[39m\"\"\"Wait for finished_callback.\u001b[39;00m\n\u001b[1;32m   2596\u001b[0m \n\u001b[1;32m   2597\u001b[0m \u001b[39mCan be interrupted with a KeyboardInterrupt.\u001b[39;00m\n\u001b[1;32m   2598\u001b[0m \n\u001b[1;32m   2599\u001b[0m \u001b[39m\"\"\"\u001b[39;00m\n\u001b[1;32m   2600\u001b[0m \u001b[39mtry\u001b[39;00m:\n\u001b[0;32m-> 2601\u001b[0m     \u001b[39mself\u001b[39m\u001b[39m.\u001b[39mevent\u001b[39m.\u001b[39mwait()\n\u001b[1;32m   2602\u001b[0m \u001b[39mfinally\u001b[39;00m:\n\u001b[1;32m   2603\u001b[0m     \u001b[39mself\u001b[39m\u001b[39m.\u001b[39mstream\u001b[39m.\u001b[39mclose(ignore_errors)\n",
      "File \u001b[0;32m~/anaconda3/envs/torchenv/lib/python3.11/threading.py:622\u001b[0m, in \u001b[0;36mEvent.wait\u001b[0;34m(self, timeout)\u001b[0m\n\u001b[1;32m    620\u001b[0m signaled \u001b[39m=\u001b[39m \u001b[39mself\u001b[39m\u001b[39m.\u001b[39m_flag\n\u001b[1;32m    621\u001b[0m \u001b[39mif\u001b[39;00m \u001b[39mnot\u001b[39;00m signaled:\n\u001b[0;32m--> 622\u001b[0m     signaled \u001b[39m=\u001b[39m \u001b[39mself\u001b[39m\u001b[39m.\u001b[39m_cond\u001b[39m.\u001b[39mwait(timeout)\n\u001b[1;32m    623\u001b[0m \u001b[39mreturn\u001b[39;00m signaled\n",
      "File \u001b[0;32m~/anaconda3/envs/torchenv/lib/python3.11/threading.py:320\u001b[0m, in \u001b[0;36mCondition.wait\u001b[0;34m(self, timeout)\u001b[0m\n\u001b[1;32m    318\u001b[0m \u001b[39mtry\u001b[39;00m:    \u001b[39m# restore state no matter what (e.g., KeyboardInterrupt)\u001b[39;00m\n\u001b[1;32m    319\u001b[0m     \u001b[39mif\u001b[39;00m timeout \u001b[39mis\u001b[39;00m \u001b[39mNone\u001b[39;00m:\n\u001b[0;32m--> 320\u001b[0m         waiter\u001b[39m.\u001b[39macquire()\n\u001b[1;32m    321\u001b[0m         gotit \u001b[39m=\u001b[39m \u001b[39mTrue\u001b[39;00m\n\u001b[1;32m    322\u001b[0m     \u001b[39melse\u001b[39;00m:\n",
      "\u001b[0;31mKeyboardInterrupt\u001b[0m: "
     ]
    }
   ],
   "source": [
    "def continuous_sound_prediction(model, device, transformation, sample_rate, target_sample_rate, device_id):\n",
    "    # Define class labels\n",
    "    labels = [\n",
    "        \"children\", \"nothing2\", \"drilling\", \"engine\", \"siren\", \n",
    "        \"gunshot\", \"aircon\", \"jackhammer\", \"carhorn\", \"glass\", \n",
    "        \"nock\", \"street_music\", \"dog_bark\", \"nothing1\"\n",
    "    ]\n",
    "\n",
    "    count = 0\n",
    "    while count <= 100:\n",
    "        try:\n",
    "            # Record a 2 seconds mono audio at the specified sample rate using the correct device\n",
    "            duration = 2.0  # seconds\n",
    "            recording = sd.rec(int(duration * sample_rate), samplerate=sample_rate, channels=1, device=device_id)\n",
    "            sd.wait()\n",
    "\n",
    "            # Convert to PyTorch tensor and switch channels and frames\n",
    "            recording = torch.from_numpy(recording).float()\n",
    "            recording = torch.transpose(recording, 0, 1)\n",
    "\n",
    "            # Resample if necessary\n",
    "            if sample_rate != target_sample_rate:\n",
    "                resampler = torchaudio.transforms.Resample(sample_rate, target_sample_rate)\n",
    "                recording = resampler(recording)\n",
    "\n",
    "            # Mix down if necessary\n",
    "            if recording.shape[0] > 1:\n",
    "                recording = torch.mean(recording, dim=0, keepdim=True)\n",
    "\n",
    "            # Cut or pad if necessary\n",
    "            if recording.shape[1] > target_sample_rate:\n",
    "                recording = recording[:, :target_sample_rate]\n",
    "            elif recording.shape[1] < target_sample_rate:\n",
    "                num_missing_samples = target_sample_rate - recording.shape[1]\n",
    "                last_dim_padding = (0, num_missing_samples)\n",
    "                recording = nn.functional.pad(recording, last_dim_padding)\n",
    "\n",
    "            # Apply transformation\n",
    "            recording = transformation(recording)\n",
    "\n",
    "            # Make the prediction\n",
    "            model.eval()\n",
    "            with torch.no_grad():\n",
    "                recording = recording.to(device)\n",
    "                outputs = model(recording[None, ...])\n",
    "                probabilities = F.softmax(outputs, dim=1)\n",
    "                _, predicted = torch.max(outputs, 1)\n",
    "\n",
    "            # Get predicted label and its corresponding probability\n",
    "            predicted_label = labels[predicted.item()]\n",
    "            predicted_confidence = probabilities[0, predicted.item()].item()\n",
    "\n",
    "            # Print the probabilities of all labels in one line\n",
    "            prob_strs = [f\"{label} {probabilities[0, idx].item():.2%}\" for idx, label in enumerate(labels)]\n",
    "            print(f\"{count} / \" + \" / \".join(prob_strs))\n",
    "\n",
    "            count += 1\n",
    "        except Exception as e:\n",
    "            print(f\"Error during prediction: {e}\")\n",
    "            break\n",
    "\n",
    "    print(\"Finished continuous sound prediction.\")\n",
    "\n",
    "# Set the device ID\n",
    "device_id = 2  # Replace with the ID of the device you want to use\n",
    "\n",
    "# Call the function\n",
    "continuous_sound_prediction(model, device, transformation, SAMPLE_RATE, SAMPLE_RATE, device_id)"
   ]
  },
  {
   "cell_type": "code",
   "execution_count": 84,
   "metadata": {},
   "outputs": [
    {
     "name": "stdout",
     "output_type": "stream",
     "text": [
      "device :  cpu\n",
      "0 / children nan% / nothing2 nan% / drilling nan% / engine nan% / siren nan% / gunshot nan% / aircon nan% / jackhammer nan% / carhorn nan% / glass nan% / nock nan% / street_music nan% / dog_bark nan% / nothing1 nan%\n",
      "1 / children nan% / nothing2 nan% / drilling nan% / engine nan% / siren nan% / gunshot nan% / aircon nan% / jackhammer nan% / carhorn nan% / glass nan% / nock nan% / street_music nan% / dog_bark nan% / nothing1 nan%\n",
      "2 / children nan% / nothing2 nan% / drilling nan% / engine nan% / siren nan% / gunshot nan% / aircon nan% / jackhammer nan% / carhorn nan% / glass nan% / nock nan% / street_music nan% / dog_bark nan% / nothing1 nan%\n",
      "3 / children nan% / nothing2 nan% / drilling nan% / engine nan% / siren nan% / gunshot nan% / aircon nan% / jackhammer nan% / carhorn nan% / glass nan% / nock nan% / street_music nan% / dog_bark nan% / nothing1 nan%\n"
     ]
    },
    {
     "ename": "KeyboardInterrupt",
     "evalue": "",
     "output_type": "error",
     "traceback": [
      "\u001b[0;31m---------------------------------------------------------------------------\u001b[0m",
      "\u001b[0;31mKeyboardInterrupt\u001b[0m                         Traceback (most recent call last)",
      "Cell \u001b[0;32mIn[84], line 3\u001b[0m\n\u001b[1;32m      1\u001b[0m \u001b[39m# Call the continuous sound prediction function\u001b[39;00m\n\u001b[1;32m      2\u001b[0m \u001b[39mprint\u001b[39m(\u001b[39m\"\u001b[39m\u001b[39mdevice : \u001b[39m\u001b[39m\"\u001b[39m,device)\n\u001b[0;32m----> 3\u001b[0m continuous_sound_prediction(model, device, transformation, SAMPLE_RATE, SAMPLE_RATE)\n",
      "Cell \u001b[0;32mIn[82], line 15\u001b[0m, in \u001b[0;36mcontinuous_sound_prediction\u001b[0;34m(model, device, transformation, sample_rate, target_sample_rate)\u001b[0m\n\u001b[1;32m     13\u001b[0m duration \u001b[39m=\u001b[39m \u001b[39m2.0\u001b[39m  \u001b[39m# seconds\u001b[39;00m\n\u001b[1;32m     14\u001b[0m recording \u001b[39m=\u001b[39m sd\u001b[39m.\u001b[39mrec(\u001b[39mint\u001b[39m(duration \u001b[39m*\u001b[39m sample_rate), samplerate\u001b[39m=\u001b[39msample_rate, channels\u001b[39m=\u001b[39m\u001b[39m1\u001b[39m)\n\u001b[0;32m---> 15\u001b[0m sd\u001b[39m.\u001b[39mwait()\n\u001b[1;32m     17\u001b[0m \u001b[39m# Convert to PyTorch tensor and switch channels and frames\u001b[39;00m\n\u001b[1;32m     18\u001b[0m recording \u001b[39m=\u001b[39m torch\u001b[39m.\u001b[39mfrom_numpy(recording)\u001b[39m.\u001b[39mfloat()\n",
      "File \u001b[0;32m~/anaconda3/envs/torchenv/lib/python3.11/site-packages/sounddevice.py:395\u001b[0m, in \u001b[0;36mwait\u001b[0;34m(ignore_errors)\u001b[0m\n\u001b[1;32m    379\u001b[0m \u001b[39m\u001b[39m\u001b[39m\"\"\"Wait for `play()`/`rec()`/`playrec()` to be finished.\u001b[39;00m\n\u001b[1;32m    380\u001b[0m \n\u001b[1;32m    381\u001b[0m \u001b[39mPlayback/recording can be stopped with a `KeyboardInterrupt`.\u001b[39;00m\n\u001b[0;32m   (...)\u001b[0m\n\u001b[1;32m    392\u001b[0m \n\u001b[1;32m    393\u001b[0m \u001b[39m\"\"\"\u001b[39;00m\n\u001b[1;32m    394\u001b[0m \u001b[39mif\u001b[39;00m _last_callback:\n\u001b[0;32m--> 395\u001b[0m     \u001b[39mreturn\u001b[39;00m _last_callback\u001b[39m.\u001b[39mwait(ignore_errors)\n",
      "File \u001b[0;32m~/anaconda3/envs/torchenv/lib/python3.11/site-packages/sounddevice.py:2601\u001b[0m, in \u001b[0;36m_CallbackContext.wait\u001b[0;34m(self, ignore_errors)\u001b[0m\n\u001b[1;32m   2595\u001b[0m \u001b[39m\u001b[39m\u001b[39m\"\"\"Wait for finished_callback.\u001b[39;00m\n\u001b[1;32m   2596\u001b[0m \n\u001b[1;32m   2597\u001b[0m \u001b[39mCan be interrupted with a KeyboardInterrupt.\u001b[39;00m\n\u001b[1;32m   2598\u001b[0m \n\u001b[1;32m   2599\u001b[0m \u001b[39m\"\"\"\u001b[39;00m\n\u001b[1;32m   2600\u001b[0m \u001b[39mtry\u001b[39;00m:\n\u001b[0;32m-> 2601\u001b[0m     \u001b[39mself\u001b[39m\u001b[39m.\u001b[39mevent\u001b[39m.\u001b[39mwait()\n\u001b[1;32m   2602\u001b[0m \u001b[39mfinally\u001b[39;00m:\n\u001b[1;32m   2603\u001b[0m     \u001b[39mself\u001b[39m\u001b[39m.\u001b[39mstream\u001b[39m.\u001b[39mclose(ignore_errors)\n",
      "File \u001b[0;32m~/anaconda3/envs/torchenv/lib/python3.11/threading.py:622\u001b[0m, in \u001b[0;36mEvent.wait\u001b[0;34m(self, timeout)\u001b[0m\n\u001b[1;32m    620\u001b[0m signaled \u001b[39m=\u001b[39m \u001b[39mself\u001b[39m\u001b[39m.\u001b[39m_flag\n\u001b[1;32m    621\u001b[0m \u001b[39mif\u001b[39;00m \u001b[39mnot\u001b[39;00m signaled:\n\u001b[0;32m--> 622\u001b[0m     signaled \u001b[39m=\u001b[39m \u001b[39mself\u001b[39m\u001b[39m.\u001b[39m_cond\u001b[39m.\u001b[39mwait(timeout)\n\u001b[1;32m    623\u001b[0m \u001b[39mreturn\u001b[39;00m signaled\n",
      "File \u001b[0;32m~/anaconda3/envs/torchenv/lib/python3.11/threading.py:320\u001b[0m, in \u001b[0;36mCondition.wait\u001b[0;34m(self, timeout)\u001b[0m\n\u001b[1;32m    318\u001b[0m \u001b[39mtry\u001b[39;00m:    \u001b[39m# restore state no matter what (e.g., KeyboardInterrupt)\u001b[39;00m\n\u001b[1;32m    319\u001b[0m     \u001b[39mif\u001b[39;00m timeout \u001b[39mis\u001b[39;00m \u001b[39mNone\u001b[39;00m:\n\u001b[0;32m--> 320\u001b[0m         waiter\u001b[39m.\u001b[39macquire()\n\u001b[1;32m    321\u001b[0m         gotit \u001b[39m=\u001b[39m \u001b[39mTrue\u001b[39;00m\n\u001b[1;32m    322\u001b[0m     \u001b[39melse\u001b[39;00m:\n",
      "\u001b[0;31mKeyboardInterrupt\u001b[0m: "
     ]
    }
   ],
   "source": [
    "# Call the continuous sound prediction function\n",
    "print(\"device : \",device)\n",
    "continuous_sound_prediction(model, device, transformation, SAMPLE_RATE, SAMPLE_RATE)"
   ]
  }
 ],
 "metadata": {
  "kernelspec": {
   "display_name": "torchenv",
   "language": "python",
   "name": "python3"
  },
  "language_info": {
   "codemirror_mode": {
    "name": "ipython",
    "version": 3
   },
   "file_extension": ".py",
   "mimetype": "text/x-python",
   "name": "python",
   "nbconvert_exporter": "python",
   "pygments_lexer": "ipython3",
   "version": "3.11.4"
  },
  "orig_nbformat": 4
 },
 "nbformat": 4,
 "nbformat_minor": 2
}
