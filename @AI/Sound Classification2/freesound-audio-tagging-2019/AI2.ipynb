{
 "cells": [
  {
   "cell_type": "code",
   "execution_count": 35,
   "metadata": {},
   "outputs": [
    {
     "name": "stdout",
     "output_type": "stream",
     "text": [
      "WINDOWS\n"
     ]
    },
    {
     "data": {
      "text/html": [
       "<div>\n",
       "<style scoped>\n",
       "    .dataframe tbody tr th:only-of-type {\n",
       "        vertical-align: middle;\n",
       "    }\n",
       "\n",
       "    .dataframe tbody tr th {\n",
       "        vertical-align: top;\n",
       "    }\n",
       "\n",
       "    .dataframe thead th {\n",
       "        text-align: right;\n",
       "    }\n",
       "</style>\n",
       "<table border=\"1\" class=\"dataframe\">\n",
       "  <thead>\n",
       "    <tr style=\"text-align: right;\">\n",
       "      <th></th>\n",
       "      <th>fname</th>\n",
       "      <th>labels</th>\n",
       "    </tr>\n",
       "  </thead>\n",
       "  <tbody>\n",
       "    <tr>\n",
       "      <th>0</th>\n",
       "      <td>0006ae4e.wav</td>\n",
       "      <td>Bark</td>\n",
       "    </tr>\n",
       "    <tr>\n",
       "      <th>1</th>\n",
       "      <td>0019ef41.wav</td>\n",
       "      <td>Raindrop</td>\n",
       "    </tr>\n",
       "    <tr>\n",
       "      <th>2</th>\n",
       "      <td>001ec0ad.wav</td>\n",
       "      <td>Finger_snapping</td>\n",
       "    </tr>\n",
       "    <tr>\n",
       "      <th>3</th>\n",
       "      <td>0026c7cb.wav</td>\n",
       "      <td>Run</td>\n",
       "    </tr>\n",
       "    <tr>\n",
       "      <th>4</th>\n",
       "      <td>0026f116.wav</td>\n",
       "      <td>Finger_snapping</td>\n",
       "    </tr>\n",
       "    <tr>\n",
       "      <th>...</th>\n",
       "      <td>...</td>\n",
       "      <td>...</td>\n",
       "    </tr>\n",
       "    <tr>\n",
       "      <th>26138</th>\n",
       "      <td>99812-1-2-0.wav</td>\n",
       "      <td>car_horn</td>\n",
       "    </tr>\n",
       "    <tr>\n",
       "      <th>26139</th>\n",
       "      <td>99812-1-3-0.wav</td>\n",
       "      <td>car_horn</td>\n",
       "    </tr>\n",
       "    <tr>\n",
       "      <th>26140</th>\n",
       "      <td>99812-1-4-0.wav</td>\n",
       "      <td>car_horn</td>\n",
       "    </tr>\n",
       "    <tr>\n",
       "      <th>26141</th>\n",
       "      <td>99812-1-5-0.wav</td>\n",
       "      <td>car_horn</td>\n",
       "    </tr>\n",
       "    <tr>\n",
       "      <th>26142</th>\n",
       "      <td>99812-1-6-0.wav</td>\n",
       "      <td>car_horn</td>\n",
       "    </tr>\n",
       "  </tbody>\n",
       "</table>\n",
       "<p>26143 rows × 2 columns</p>\n",
       "</div>"
      ],
      "text/plain": [
       "                 fname           labels\n",
       "0         0006ae4e.wav             Bark\n",
       "1         0019ef41.wav         Raindrop\n",
       "2         001ec0ad.wav  Finger_snapping\n",
       "3         0026c7cb.wav              Run\n",
       "4         0026f116.wav  Finger_snapping\n",
       "...                ...              ...\n",
       "26138  99812-1-2-0.wav         car_horn\n",
       "26139  99812-1-3-0.wav         car_horn\n",
       "26140  99812-1-4-0.wav         car_horn\n",
       "26141  99812-1-5-0.wav         car_horn\n",
       "26142  99812-1-6-0.wav         car_horn\n",
       "\n",
       "[26143 rows x 2 columns]"
      ]
     },
     "execution_count": 35,
     "metadata": {},
     "output_type": "execute_result"
    }
   ],
   "source": [
    "import pandas as pd\n",
    "from sklearn.preprocessing import MultiLabelBinarizer\n",
    "\n",
    "# Load the CSV files\n",
    "df_curated = pd.read_csv('train_curated.csv')\n",
    "df_noisy = pd.read_csv('train_noisy.csv')\n",
    "df_siren = pd.read_csv('siren.csv')\n",
    "df_carhorn = pd.read_csv('car_horn.csv')\n",
    "# Paths to the audio files\n",
    "try:\n",
    "    audio_path_curated = 'C:/Users/SJ/Documents/GitHub/DUNE/@AI/Sound Classification2/freesound-audio-tagging-2019/train_curated'\n",
    "    audio_path_noisy = 'C:/Users/SJ/Documents/GitHub/DUNE/@AI/Sound Classification2/freesound-audio-tagging-2019/train_noisy'\n",
    "    print(\"WINDOWS\")\n",
    "except:\n",
    "    audio_path_curated = '/Users/owo/HOUSE/@DUNE/@AI/Sound Classification2/freesound-audio-tagging-2019/train_curated'\n",
    "    audio_path_noisy = '/Users/owo/HOUSE/@DUNE/@AI/Sound Classification2/freesound-audio-tagging-2019/train_noisy'\n",
    "    print(\"MAC\")\n",
    "\n",
    "# Concatenate the DataFrames\n",
    "df = pd.concat([df_curated,df_noisy,df_siren,df_carhorn], ignore_index=True)\n",
    "df"
   ]
  },
  {
   "cell_type": "code",
   "execution_count": 36,
   "metadata": {},
   "outputs": [
    {
     "name": "stdout",
     "output_type": "stream",
     "text": [
      "droped :  0\n",
      "droped :  1631\n"
     ]
    },
    {
     "data": {
      "text/html": [
       "<div>\n",
       "<style scoped>\n",
       "    .dataframe tbody tr th:only-of-type {\n",
       "        vertical-align: middle;\n",
       "    }\n",
       "\n",
       "    .dataframe tbody tr th {\n",
       "        vertical-align: top;\n",
       "    }\n",
       "\n",
       "    .dataframe thead th {\n",
       "        text-align: right;\n",
       "    }\n",
       "</style>\n",
       "<table border=\"1\" class=\"dataframe\">\n",
       "  <thead>\n",
       "    <tr style=\"text-align: right;\">\n",
       "      <th></th>\n",
       "      <th>fname</th>\n",
       "      <th>labels</th>\n",
       "    </tr>\n",
       "  </thead>\n",
       "  <tbody>\n",
       "    <tr>\n",
       "      <th>0</th>\n",
       "      <td>0006ae4e.wav</td>\n",
       "      <td>Bark</td>\n",
       "    </tr>\n",
       "    <tr>\n",
       "      <th>1</th>\n",
       "      <td>0019ef41.wav</td>\n",
       "      <td>Raindrop</td>\n",
       "    </tr>\n",
       "    <tr>\n",
       "      <th>2</th>\n",
       "      <td>001ec0ad.wav</td>\n",
       "      <td>Finger_snapping</td>\n",
       "    </tr>\n",
       "    <tr>\n",
       "      <th>3</th>\n",
       "      <td>0026c7cb.wav</td>\n",
       "      <td>Run</td>\n",
       "    </tr>\n",
       "    <tr>\n",
       "      <th>4</th>\n",
       "      <td>0026f116.wav</td>\n",
       "      <td>Finger_snapping</td>\n",
       "    </tr>\n",
       "    <tr>\n",
       "      <th>...</th>\n",
       "      <td>...</td>\n",
       "      <td>...</td>\n",
       "    </tr>\n",
       "    <tr>\n",
       "      <th>24507</th>\n",
       "      <td>99812-1-2-0.wav</td>\n",
       "      <td>car_horn</td>\n",
       "    </tr>\n",
       "    <tr>\n",
       "      <th>24508</th>\n",
       "      <td>99812-1-3-0.wav</td>\n",
       "      <td>car_horn</td>\n",
       "    </tr>\n",
       "    <tr>\n",
       "      <th>24509</th>\n",
       "      <td>99812-1-4-0.wav</td>\n",
       "      <td>car_horn</td>\n",
       "    </tr>\n",
       "    <tr>\n",
       "      <th>24510</th>\n",
       "      <td>99812-1-5-0.wav</td>\n",
       "      <td>car_horn</td>\n",
       "    </tr>\n",
       "    <tr>\n",
       "      <th>24511</th>\n",
       "      <td>99812-1-6-0.wav</td>\n",
       "      <td>car_horn</td>\n",
       "    </tr>\n",
       "  </tbody>\n",
       "</table>\n",
       "<p>24512 rows × 2 columns</p>\n",
       "</div>"
      ],
      "text/plain": [
       "                 fname           labels\n",
       "0         0006ae4e.wav             Bark\n",
       "1         0019ef41.wav         Raindrop\n",
       "2         001ec0ad.wav  Finger_snapping\n",
       "3         0026c7cb.wav              Run\n",
       "4         0026f116.wav  Finger_snapping\n",
       "...                ...              ...\n",
       "24507  99812-1-2-0.wav         car_horn\n",
       "24508  99812-1-3-0.wav         car_horn\n",
       "24509  99812-1-4-0.wav         car_horn\n",
       "24510  99812-1-5-0.wav         car_horn\n",
       "24511  99812-1-6-0.wav         car_horn\n",
       "\n",
       "[24512 rows x 2 columns]"
      ]
     },
     "execution_count": 36,
     "metadata": {},
     "output_type": "execute_result"
    }
   ],
   "source": [
    "import librosa\n",
    "import warnings\n",
    "import os\n",
    "def drop_unloadable_files(df, audio_dir):\n",
    "    count = 0\n",
    "\n",
    "    # Iterate over the DataFrame\n",
    "    for i, row in df.iterrows():\n",
    "        audio_file = os.path.join(audio_dir, row['fname'])\n",
    "        try:\n",
    "            # Try to load the audio file\n",
    "            with warnings.catch_warnings():\n",
    "                warnings.simplefilter('ignore')\n",
    "                librosa.load(audio_file, sr=None)\n",
    "        except Exception:\n",
    "            # If loading fails, drop the row\n",
    "            df = df.drop(i)\n",
    "            count = count + 1\n",
    "    print(\"droped : \",count)\n",
    "    return df\n",
    "\n",
    "# Drop rows with unloadable audio files from the curated and noisy DataFrames\n",
    "df_curated = drop_unloadable_files(df_curated, audio_path_curated)\n",
    "df_noisy = drop_unloadable_files(df_noisy, audio_path_noisy)\n",
    "\n",
    "# Concatenate the curated and noisy DataFrames\n",
    "df_concat = pd.concat([df_curated, df_noisy,df_siren,df_carhorn], ignore_index=True)\n",
    "df_concat.to_csv('csv_train_concat_drop.csv', index=False)\n",
    "df_concat"
   ]
  },
  {
   "cell_type": "code",
   "execution_count": 1,
   "metadata": {},
   "outputs": [
    {
     "name": "stdout",
     "output_type": "stream",
     "text": [
      "load concat csv\n"
     ]
    },
    {
     "data": {
      "text/html": [
       "<div>\n",
       "<style scoped>\n",
       "    .dataframe tbody tr th:only-of-type {\n",
       "        vertical-align: middle;\n",
       "    }\n",
       "\n",
       "    .dataframe tbody tr th {\n",
       "        vertical-align: top;\n",
       "    }\n",
       "\n",
       "    .dataframe thead th {\n",
       "        text-align: right;\n",
       "    }\n",
       "</style>\n",
       "<table border=\"1\" class=\"dataframe\">\n",
       "  <thead>\n",
       "    <tr style=\"text-align: right;\">\n",
       "      <th></th>\n",
       "      <th>fname</th>\n",
       "      <th>labels</th>\n",
       "    </tr>\n",
       "  </thead>\n",
       "  <tbody>\n",
       "    <tr>\n",
       "      <th>0</th>\n",
       "      <td>0006ae4e.wav</td>\n",
       "      <td>[Bark]</td>\n",
       "    </tr>\n",
       "    <tr>\n",
       "      <th>1</th>\n",
       "      <td>0019ef41.wav</td>\n",
       "      <td>[Raindrop]</td>\n",
       "    </tr>\n",
       "    <tr>\n",
       "      <th>2</th>\n",
       "      <td>001ec0ad.wav</td>\n",
       "      <td>[Finger_snapping]</td>\n",
       "    </tr>\n",
       "    <tr>\n",
       "      <th>3</th>\n",
       "      <td>0026c7cb.wav</td>\n",
       "      <td>[Run]</td>\n",
       "    </tr>\n",
       "    <tr>\n",
       "      <th>4</th>\n",
       "      <td>0026f116.wav</td>\n",
       "      <td>[Finger_snapping]</td>\n",
       "    </tr>\n",
       "    <tr>\n",
       "      <th>...</th>\n",
       "      <td>...</td>\n",
       "      <td>...</td>\n",
       "    </tr>\n",
       "    <tr>\n",
       "      <th>24507</th>\n",
       "      <td>99812-1-2-0.wav</td>\n",
       "      <td>[car_horn]</td>\n",
       "    </tr>\n",
       "    <tr>\n",
       "      <th>24508</th>\n",
       "      <td>99812-1-3-0.wav</td>\n",
       "      <td>[car_horn]</td>\n",
       "    </tr>\n",
       "    <tr>\n",
       "      <th>24509</th>\n",
       "      <td>99812-1-4-0.wav</td>\n",
       "      <td>[car_horn]</td>\n",
       "    </tr>\n",
       "    <tr>\n",
       "      <th>24510</th>\n",
       "      <td>99812-1-5-0.wav</td>\n",
       "      <td>[car_horn]</td>\n",
       "    </tr>\n",
       "    <tr>\n",
       "      <th>24511</th>\n",
       "      <td>99812-1-6-0.wav</td>\n",
       "      <td>[car_horn]</td>\n",
       "    </tr>\n",
       "  </tbody>\n",
       "</table>\n",
       "<p>24512 rows × 2 columns</p>\n",
       "</div>"
      ],
      "text/plain": [
       "                 fname             labels\n",
       "0         0006ae4e.wav             [Bark]\n",
       "1         0019ef41.wav         [Raindrop]\n",
       "2         001ec0ad.wav  [Finger_snapping]\n",
       "3         0026c7cb.wav              [Run]\n",
       "4         0026f116.wav  [Finger_snapping]\n",
       "...                ...                ...\n",
       "24507  99812-1-2-0.wav         [car_horn]\n",
       "24508  99812-1-3-0.wav         [car_horn]\n",
       "24509  99812-1-4-0.wav         [car_horn]\n",
       "24510  99812-1-5-0.wav         [car_horn]\n",
       "24511  99812-1-6-0.wav         [car_horn]\n",
       "\n",
       "[24512 rows x 2 columns]"
      ]
     },
     "execution_count": 1,
     "metadata": {},
     "output_type": "execute_result"
    }
   ],
   "source": [
    "## You can start from here\n",
    "import pandas as pd\n",
    "\n",
    "try:\n",
    "    # Split the labels on the commas to create a list of labels for each sample\n",
    "    df_concat['labels'] = df_concat['labels'].str.split(',')\n",
    "    print(\"try\")\n",
    "except:\n",
    "    #### SKIPP ####\n",
    "    #if you dont run the drop code (since it takes too long)\n",
    "    df_concat = pd.read_csv('csv_train_concat_drop.csv')\n",
    "    df_concat['labels'] = df_concat['labels'].str.split(',')\n",
    "    print('load concat csv')\n",
    "df = df_concat\n",
    "df_concat = 0 #delete df_concat so that if we run again , try would make an error (intentionally)\n",
    "df"
   ]
  },
  {
   "cell_type": "code",
   "execution_count": 2,
   "metadata": {},
   "outputs": [
    {
     "data": {
      "text/plain": [
       "(siren                              929\n",
       " car_horn                           429\n",
       " Bark                               354\n",
       " Car_passing_by                     352\n",
       " Bus                                351\n",
       " Traffic_noise_and_roadway_noise    351\n",
       " Shatter                            350\n",
       " Knock                              348\n",
       " Slam                               347\n",
       " Motorcycle                         346\n",
       " Yell                               346\n",
       " Screaming                          345\n",
       " Bicycle_bell                       336\n",
       " Name: labels, dtype: int64,\n",
       " <Axes: >)"
      ]
     },
     "execution_count": 2,
     "metadata": {},
     "output_type": "execute_result"
    },
    {
     "data": {
      "image/png": "[encoded data removed]",
      "text/plain": [
       "<Figure size 1000x600 with 1 Axes>"
      ]
     },
     "metadata": {},
     "output_type": "display_data"
    }
   ],
   "source": [
    "# Explode the DataFrame on the 'labels' column\n",
    "df_exploded = df.explode('labels')\n",
    "\n",
    "# Select the labels\n",
    "selected_labels = ['Motorcycle', 'Slam', 'Yell', 'Screaming', 'Bus',\n",
    "                   'Traffic_noise_and_roadway_noise', 'Car_passing_by',\n",
    "                   'Bicycle_bell', 'Knock', 'Bark', 'Scream', 'Shatter','siren','car_horn']\n",
    "\n",
    "# Filter the data\n",
    "df_filtered = df_exploded[df_exploded['labels'].isin(selected_labels)]\n",
    "\n",
    "# Count the number of occurrences of each label\n",
    "label_counts = df_filtered['labels'].value_counts()\n",
    "\n",
    "label_counts, label_counts.plot(kind='bar', figsize=(10, 6))\n"
   ]
  },
  {
   "cell_type": "code",
   "execution_count": 3,
   "metadata": {},
   "outputs": [
    {
     "data": {
      "text/html": [
       "<div>\n",
       "<style scoped>\n",
       "    .dataframe tbody tr th:only-of-type {\n",
       "        vertical-align: middle;\n",
       "    }\n",
       "\n",
       "    .dataframe tbody tr th {\n",
       "        vertical-align: top;\n",
       "    }\n",
       "\n",
       "    .dataframe thead th {\n",
       "        text-align: right;\n",
       "    }\n",
       "</style>\n",
       "<table border=\"1\" class=\"dataframe\">\n",
       "  <thead>\n",
       "    <tr style=\"text-align: right;\">\n",
       "      <th></th>\n",
       "      <th>fname</th>\n",
       "      <th>Bark</th>\n",
       "      <th>Bicycle_bell</th>\n",
       "      <th>Bus</th>\n",
       "      <th>Car_passing_by</th>\n",
       "      <th>Knock</th>\n",
       "      <th>Motorcycle</th>\n",
       "      <th>Screaming</th>\n",
       "      <th>Shatter</th>\n",
       "      <th>Slam</th>\n",
       "      <th>Traffic_noise_and_roadway_noise</th>\n",
       "      <th>Yell</th>\n",
       "      <th>car_horn</th>\n",
       "      <th>siren</th>\n",
       "    </tr>\n",
       "  </thead>\n",
       "  <tbody>\n",
       "    <tr>\n",
       "      <th>0</th>\n",
       "      <td>0006ae4e.wav</td>\n",
       "      <td>1</td>\n",
       "      <td>0</td>\n",
       "      <td>0</td>\n",
       "      <td>0</td>\n",
       "      <td>0</td>\n",
       "      <td>0</td>\n",
       "      <td>0</td>\n",
       "      <td>0</td>\n",
       "      <td>0</td>\n",
       "      <td>0</td>\n",
       "      <td>0</td>\n",
       "      <td>0</td>\n",
       "      <td>0</td>\n",
       "    </tr>\n",
       "    <tr>\n",
       "      <th>14</th>\n",
       "      <td>00c40a6d.wav</td>\n",
       "      <td>0</td>\n",
       "      <td>0</td>\n",
       "      <td>0</td>\n",
       "      <td>0</td>\n",
       "      <td>1</td>\n",
       "      <td>0</td>\n",
       "      <td>0</td>\n",
       "      <td>0</td>\n",
       "      <td>0</td>\n",
       "      <td>0</td>\n",
       "      <td>0</td>\n",
       "      <td>0</td>\n",
       "      <td>0</td>\n",
       "    </tr>\n",
       "    <tr>\n",
       "      <th>15</th>\n",
       "      <td>00c4e82c.wav</td>\n",
       "      <td>0</td>\n",
       "      <td>0</td>\n",
       "      <td>0</td>\n",
       "      <td>0</td>\n",
       "      <td>0</td>\n",
       "      <td>1</td>\n",
       "      <td>0</td>\n",
       "      <td>0</td>\n",
       "      <td>0</td>\n",
       "      <td>0</td>\n",
       "      <td>0</td>\n",
       "      <td>0</td>\n",
       "      <td>0</td>\n",
       "    </tr>\n",
       "    <tr>\n",
       "      <th>23</th>\n",
       "      <td>015a50b9.wav</td>\n",
       "      <td>1</td>\n",
       "      <td>0</td>\n",
       "      <td>0</td>\n",
       "      <td>0</td>\n",
       "      <td>0</td>\n",
       "      <td>0</td>\n",
       "      <td>0</td>\n",
       "      <td>0</td>\n",
       "      <td>0</td>\n",
       "      <td>0</td>\n",
       "      <td>0</td>\n",
       "      <td>0</td>\n",
       "      <td>0</td>\n",
       "    </tr>\n",
       "    <tr>\n",
       "      <th>31</th>\n",
       "      <td>02286d70.wav</td>\n",
       "      <td>0</td>\n",
       "      <td>0</td>\n",
       "      <td>1</td>\n",
       "      <td>0</td>\n",
       "      <td>0</td>\n",
       "      <td>0</td>\n",
       "      <td>0</td>\n",
       "      <td>0</td>\n",
       "      <td>0</td>\n",
       "      <td>0</td>\n",
       "      <td>0</td>\n",
       "      <td>0</td>\n",
       "      <td>0</td>\n",
       "    </tr>\n",
       "    <tr>\n",
       "      <th>...</th>\n",
       "      <td>...</td>\n",
       "      <td>...</td>\n",
       "      <td>...</td>\n",
       "      <td>...</td>\n",
       "      <td>...</td>\n",
       "      <td>...</td>\n",
       "      <td>...</td>\n",
       "      <td>...</td>\n",
       "      <td>...</td>\n",
       "      <td>...</td>\n",
       "      <td>...</td>\n",
       "      <td>...</td>\n",
       "      <td>...</td>\n",
       "      <td>...</td>\n",
       "    </tr>\n",
       "    <tr>\n",
       "      <th>24507</th>\n",
       "      <td>99812-1-2-0.wav</td>\n",
       "      <td>0</td>\n",
       "      <td>0</td>\n",
       "      <td>0</td>\n",
       "      <td>0</td>\n",
       "      <td>0</td>\n",
       "      <td>0</td>\n",
       "      <td>0</td>\n",
       "      <td>0</td>\n",
       "      <td>0</td>\n",
       "      <td>0</td>\n",
       "      <td>0</td>\n",
       "      <td>1</td>\n",
       "      <td>0</td>\n",
       "    </tr>\n",
       "    <tr>\n",
       "      <th>24508</th>\n",
       "      <td>99812-1-3-0.wav</td>\n",
       "      <td>0</td>\n",
       "      <td>0</td>\n",
       "      <td>0</td>\n",
       "      <td>0</td>\n",
       "      <td>0</td>\n",
       "      <td>0</td>\n",
       "      <td>0</td>\n",
       "      <td>0</td>\n",
       "      <td>0</td>\n",
       "      <td>0</td>\n",
       "      <td>0</td>\n",
       "      <td>1</td>\n",
       "      <td>0</td>\n",
       "    </tr>\n",
       "    <tr>\n",
       "      <th>24509</th>\n",
       "      <td>99812-1-4-0.wav</td>\n",
       "      <td>0</td>\n",
       "      <td>0</td>\n",
       "      <td>0</td>\n",
       "      <td>0</td>\n",
       "      <td>0</td>\n",
       "      <td>0</td>\n",
       "      <td>0</td>\n",
       "      <td>0</td>\n",
       "      <td>0</td>\n",
       "      <td>0</td>\n",
       "      <td>0</td>\n",
       "      <td>1</td>\n",
       "      <td>0</td>\n",
       "    </tr>\n",
       "    <tr>\n",
       "      <th>24510</th>\n",
       "      <td>99812-1-5-0.wav</td>\n",
       "      <td>0</td>\n",
       "      <td>0</td>\n",
       "      <td>0</td>\n",
       "      <td>0</td>\n",
       "      <td>0</td>\n",
       "      <td>0</td>\n",
       "      <td>0</td>\n",
       "      <td>0</td>\n",
       "      <td>0</td>\n",
       "      <td>0</td>\n",
       "      <td>0</td>\n",
       "      <td>1</td>\n",
       "      <td>0</td>\n",
       "    </tr>\n",
       "    <tr>\n",
       "      <th>24511</th>\n",
       "      <td>99812-1-6-0.wav</td>\n",
       "      <td>0</td>\n",
       "      <td>0</td>\n",
       "      <td>0</td>\n",
       "      <td>0</td>\n",
       "      <td>0</td>\n",
       "      <td>0</td>\n",
       "      <td>0</td>\n",
       "      <td>0</td>\n",
       "      <td>0</td>\n",
       "      <td>0</td>\n",
       "      <td>0</td>\n",
       "      <td>1</td>\n",
       "      <td>0</td>\n",
       "    </tr>\n",
       "  </tbody>\n",
       "</table>\n",
       "<p>5061 rows × 14 columns</p>\n",
       "</div>"
      ],
      "text/plain": [
       "                 fname  Bark  Bicycle_bell  Bus  Car_passing_by  Knock  \\\n",
       "0         0006ae4e.wav     1             0    0               0      0   \n",
       "14        00c40a6d.wav     0             0    0               0      1   \n",
       "15        00c4e82c.wav     0             0    0               0      0   \n",
       "23        015a50b9.wav     1             0    0               0      0   \n",
       "31        02286d70.wav     0             0    1               0      0   \n",
       "...                ...   ...           ...  ...             ...    ...   \n",
       "24507  99812-1-2-0.wav     0             0    0               0      0   \n",
       "24508  99812-1-3-0.wav     0             0    0               0      0   \n",
       "24509  99812-1-4-0.wav     0             0    0               0      0   \n",
       "24510  99812-1-5-0.wav     0             0    0               0      0   \n",
       "24511  99812-1-6-0.wav     0             0    0               0      0   \n",
       "\n",
       "       Motorcycle  Screaming  Shatter  Slam  Traffic_noise_and_roadway_noise  \\\n",
       "0               0          0        0     0                                0   \n",
       "14              0          0        0     0                                0   \n",
       "15              1          0        0     0                                0   \n",
       "23              0          0        0     0                                0   \n",
       "31              0          0        0     0                                0   \n",
       "...           ...        ...      ...   ...                              ...   \n",
       "24507           0          0        0     0                                0   \n",
       "24508           0          0        0     0                                0   \n",
       "24509           0          0        0     0                                0   \n",
       "24510           0          0        0     0                                0   \n",
       "24511           0          0        0     0                                0   \n",
       "\n",
       "       Yell  car_horn  siren  \n",
       "0         0         0      0  \n",
       "14        0         0      0  \n",
       "15        0         0      0  \n",
       "23        0         0      0  \n",
       "31        0         0      0  \n",
       "...     ...       ...    ...  \n",
       "24507     0         1      0  \n",
       "24508     0         1      0  \n",
       "24509     0         1      0  \n",
       "24510     0         1      0  \n",
       "24511     0         1      0  \n",
       "\n",
       "[5061 rows x 14 columns]"
      ]
     },
     "execution_count": 3,
     "metadata": {},
     "output_type": "execute_result"
    }
   ],
   "source": [
    "from sklearn.preprocessing import MultiLabelBinarizer\n",
    "\n",
    "mlb = MultiLabelBinarizer()\n",
    "#df = df_filtered\n",
    "# Filter the dataframe to only include rows with the selected labels\n",
    "df = df[df['labels'].apply(lambda x: any([label in x for label in selected_labels]))]\n",
    "\n",
    "# Create a new DataFrame containing only the filtered labels\n",
    "labels_df = df['labels'].apply(lambda x: [label for label in x if label in selected_labels])\n",
    "\n",
    "# One-hot encode the labels\n",
    "df = df.join(pd.DataFrame(mlb.fit_transform(labels_df),\n",
    "                          columns=mlb.classes_,\n",
    "                          index=df.index))\n",
    "\n",
    "# Drop the 'labels' column\n",
    "df = df.drop(columns=['labels'])\n",
    "\n",
    "df"
   ]
  },
  {
   "cell_type": "code",
   "execution_count": 6,
   "metadata": {},
   "outputs": [
    {
     "name": "stdout",
     "output_type": "stream",
     "text": [
      "label count :"
     ]
    },
    {
     "data": {
      "text/plain": [
       "13"
      ]
     },
     "execution_count": 6,
     "metadata": {},
     "output_type": "execute_result"
    }
   ],
   "source": [
    "print(\"label count :\",end='')\n",
    "len(mlb.classes_)"
   ]
  },
  {
   "cell_type": "code",
   "execution_count": 47,
   "metadata": {},
   "outputs": [],
   "source": [
    "#Cut audio\n",
    "import os\n",
    "import numpy as np\n",
    "import librosa\n",
    "\n",
    "def load_audio(fname, sr=22050):\n",
    "    # Paths to the audio files\n",
    "    audio_path_curated = 'train_curated'  # Adjust these paths according to your directory structure\n",
    "    audio_path_noisy = 'train_noisy'  # Adjust these paths according to your directory structure\n",
    "\n",
    "    # Check if the file exists in the curated directory\n",
    "    if os.path.exists(os.path.join(audio_path_curated, fname)):\n",
    "        filename = os.path.join(audio_path_curated, fname)\n",
    "    # Otherwise, check the noisy directory\n",
    "    elif os.path.exists(os.path.join(audio_path_noisy, fname)):\n",
    "        filename = os.path.join(audio_path_noisy, fname)\n",
    "    else:\n",
    "        raise FileNotFoundError(f\"{fname} not found in both directories.\")\n",
    "    \n",
    "    # Load the audio file\n",
    "    y, _ = librosa.load(filename, sr=sr)\n",
    "    \n",
    "    return y\n"
   ]
  },
  {
   "cell_type": "code",
   "execution_count": 49,
   "metadata": {},
   "outputs": [],
   "source": [
    "#  Augment audio\n",
    "# 1. random streach\n",
    "# 2. cut in 2 'durcation' seconds (in random position)\n",
    "# 3. random pich shift\n",
    "# 4. random noise \n",
    "\n",
    "import random\n",
    "\n",
    "def augment_audio(y, duration=2, sr=22050): #ducation = 2seconds\n",
    "    # Apply time stretching\n",
    "    rate = random.uniform(0.9, 1.1)  # Randomly vary the speed between 80% and 120%\n",
    "    y = librosa.effects.time_stretch(y, rate = rate)\n",
    "\n",
    "    ## Cut audio\n",
    "    # If the audio is too short, pad it with zeros\n",
    "    if len(y) < sr * duration:\n",
    "        y = np.pad(y, (0, int(sr * duration) - len(y)))\n",
    "    \n",
    "    # If the audio is too long, randomly select a segment\n",
    "    if len(y) > sr * duration:\n",
    "        max_start_index = len(y) - int(sr * duration) #audio lengh - 2 seconds\n",
    "        start_index = np.random.randint(0, max_start_index) # start anywhere except the last 2 seconds\n",
    "        y = y[start_index:start_index + int(sr * duration)] # cut anywhere 2 seconds\n",
    "\n",
    "    # Apply pitch shifting\n",
    "    steps = random.randint(-1, 1)  # Randomly vary the pitch by up to n semitones\n",
    "    y = librosa.effects.pitch_shift(y, sr = sr , n_steps= steps)\n",
    "\n",
    "    # Apply additive noise\n",
    "    noise = np.random.normal(0, 0.01, len(y))  # White noise with a standard deviation of 0.1\n",
    "    y += noise\n",
    "    \n",
    "    return y"
   ]
  },
  {
   "cell_type": "code",
   "execution_count": 50,
   "metadata": {},
   "outputs": [],
   "source": [
    "def get_mel_spectrogram(y, sr=22050, n_fft=2048, hop_length=512, n_mels=128):\n",
    "    # Compute the spectrogram\n",
    "    D = librosa.stft(y, n_fft=n_fft, hop_length=hop_length)\n",
    "    D_abs = np.abs(D)\n",
    "    # Convert to Mel scale\n",
    "    mel_spec = librosa.feature.melspectrogram(S=librosa.amplitude_to_db(D_abs), sr=sr, n_mels=n_mels)\n",
    "    # Normalize\n",
    "    mel_spec = (mel_spec - np.mean(mel_spec)) / np.std(mel_spec)\n",
    "    return mel_spec"
   ]
  },
  {
   "cell_type": "code",
   "execution_count": 51,
   "metadata": {},
   "outputs": [
    {
     "name": "stdout",
     "output_type": "stream",
     "text": [
      "if the number doesnt increase ,stop the code and run the vscode with admin\n"
     ]
    },
    {
     "name": "stderr",
     "output_type": "stream",
     "text": [
      " 50%|████▉     | 2526/5061 [11:38<14:12,  2.97it/s]"
     ]
    }
   ],
   "source": [
    "from tqdm import tqdm\n",
    "# 1. load audio\n",
    "# 2. augment audio\n",
    "# 3. get mel spectrogram\n",
    "# 4. extend a new labels (since it got bigger)\n",
    "\n",
    "spectrograms = []\n",
    "labels = []\n",
    "print(\"if the number doesnt increase ,stop the code and run the vscode with admin\")\n",
    "# Load, cut, augment, and get the spectrogram of each audio file 10 times\n",
    "for i in tqdm(range(len(df))):\n",
    "    filename = df.iloc[i]['fname']\n",
    "    label = df.iloc[i].drop('fname').values  # Get the label of the audio file\n",
    "    # Load and cut the audio\n",
    "    y = load_audio(filename)\n",
    "    \n",
    "    for _ in range(3):    \n",
    "        # Augment the audio\n",
    "        y_aug = augment_audio(y,duration=2)\n",
    "        \n",
    "        # Get the spectrogram of the augmented audio\n",
    "        mel_spec = get_mel_spectrogram(y_aug)\n",
    "        \n",
    "        # Add the spectrogram to the list\n",
    "        spectrograms.append(mel_spec)\n",
    "        \n",
    "        # Add the label to the list\n",
    "        labels.append(label)\n"
   ]
  },
  {
   "cell_type": "code",
   "execution_count": 12,
   "metadata": {},
   "outputs": [],
   "source": [
    "# Convert the list of spectrograms and labels to numpy arrays\n",
    "spectrograms = np.array(spectrograms)\n",
    "spectrograms"
   ]
  },
  {
   "cell_type": "code",
   "execution_count": 13,
   "metadata": {},
   "outputs": [],
   "source": [
    "# Save both npy (since it takes too long to make)\n",
    "np.save('np_spectrograms.npy', spectrograms)\n",
    "np.save('np_labels_aug.npy',labels)"
   ]
  },
  {
   "cell_type": "code",
   "execution_count": 14,
   "metadata": {},
   "outputs": [],
   "source": [
    "# Load the spectrograms array from the .npy file\n",
    "spectrograms_loaded = np.load('np_spectrograms.npy')\n",
    "labels = np.load('np_labels_aug.npy', allow_pickle=True)"
   ]
  },
  {
   "cell_type": "code",
   "execution_count": 15,
   "metadata": {},
   "outputs": [
    {
     "name": "stdout",
     "output_type": "stream",
     "text": [
      "15183,128,87\n",
      "15183,13,"
     ]
    }
   ],
   "source": [
    "# Check length\n",
    "print(len(spectrograms_loaded),end=',')\n",
    "print(len(spectrograms_loaded[0]),end=',')\n",
    "print(len(spectrograms_loaded[0][0]))\n",
    "print(len(labels),end=',')\n",
    "print(len(labels[0]),end=',')"
   ]
  },
  {
   "cell_type": "code",
   "execution_count": 24,
   "metadata": {},
   "outputs": [],
   "source": [
    "#if use CNN type 1, if use resnet 18 type 2 , resnet 34 is type 3\n",
    "def ModelSelect(select):\n",
    "\n",
    "    if select == 1:\n",
    "        import torch\n",
    "        import torch.nn as nn\n",
    "\n",
    "        class AudioClassifier(nn.Module):\n",
    "            def __init__(self):\n",
    "                super(AudioClassifier, self).__init__()\n",
    "                self.conv1 = nn.Conv2d(1, 64, 3, padding=1)\n",
    "                self.conv2 = nn.Conv2d(64, 128, 3, padding=1)\n",
    "                self.fc1 = nn.Linear(128*32*21, 1024)\n",
    "                self.fc2 = nn.Linear(1024, len(mlb.classes_))\n",
    "\n",
    "            def forward(self, x):\n",
    "                x = x.unsqueeze(1)  # Add an extra dimension for the single channel\n",
    "                x = torch.relu(self.conv1(x))\n",
    "                x = torch.max_pool2d(x, 2)\n",
    "                x = torch.relu(self.conv2(x))\n",
    "                x = torch.max_pool2d(x, 2)\n",
    "                x = x.view(x.size(0), -1)  # Flatten the tensor\n",
    "                x = torch.relu(self.fc1(x))\n",
    "                x = self.fc2(x)\n",
    "                return x\n",
    "        model = AudioClassifier()\n",
    "\n",
    "        print(\"CNN\")\n",
    "    if select == 2:\n",
    "        import torch\n",
    "        import torch.nn as nn\n",
    "        from torchvision import models\n",
    "\n",
    "        class AudioClassifier(nn.Module):\n",
    "            def __init__(self, num_classes):\n",
    "                super(AudioClassifier, self).__init__()\n",
    "                self.resnet = models.resnet18(pretrained=True)\n",
    "                \n",
    "                # Modify first layer to take 1-channel input\n",
    "                self.resnet.conv1 = nn.Conv2d(1, 64, kernel_size=(7, 7), stride=(2, 2), padding=(3, 3), bias=False)\n",
    "                \n",
    "                # Modify last layer to have the correct number of output classes\n",
    "                num_features = self.resnet.fc.in_features\n",
    "                self.resnet.fc = nn.Linear(num_features, num_classes)\n",
    "\n",
    "            def forward(self, x):\n",
    "                x = x.unsqueeze(1)  # Add an extra dimension for the single channel\n",
    "                x = self.resnet(x)\n",
    "                return x\n",
    "\n",
    "        model = AudioClassifier(num_classes=len(mlb.classes_))\n",
    "        print(\"Resnet18\")\n",
    "    if select == 3:\n",
    "        import torch\n",
    "        import torch.nn as nn\n",
    "        from torchvision import models\n",
    "\n",
    "        class AudioClassifier(nn.Module):\n",
    "            def __init__(self, num_classes):\n",
    "                super(AudioClassifier, self).__init__()\n",
    "                self.resnet = models.resnet34(pretrained=True)\n",
    "                \n",
    "                # Modify first layer to take 1-channel input\n",
    "                self.resnet.conv1 = nn.Conv2d(1, 64, kernel_size=(7, 7), stride=(2, 2), padding=(3, 3), bias=False)\n",
    "                \n",
    "                # Modify last layer to have the correct number of output classes\n",
    "                num_features = self.resnet.fc.in_features\n",
    "                self.resnet.fc = nn.Linear(num_features, num_classes)\n",
    "\n",
    "            def forward(self, x):\n",
    "                x = x.unsqueeze(1)  # Add an extra dimension for the single channel\n",
    "                x = self.resnet(x)\n",
    "                return x\n",
    "\n",
    "        model = AudioClassifier(num_classes=len(mlb.classes_))\n",
    "        print(\"Resnet34\")\n",
    "    return model"
   ]
  },
  {
   "cell_type": "code",
   "execution_count": 25,
   "metadata": {},
   "outputs": [
    {
     "name": "stdout",
     "output_type": "stream",
     "text": [
      "1\n",
      "CNN\n",
      "2\n",
      "Resnet18\n",
      "3\n",
      "Resnet34\n"
     ]
    }
   ],
   "source": [
    "# Check if the model is loading successfully\n",
    "for i in range(1,4):\n",
    "    print(i)\n",
    "    model = ModelSelect(i)"
   ]
  },
  {
   "cell_type": "code",
   "execution_count": 42,
   "metadata": {},
   "outputs": [
    {
     "data": {
      "text/plain": [
       "array([[1, 0, 0, ..., 0, 0, 0],\n",
       "       [1, 0, 0, ..., 0, 0, 0],\n",
       "       [1, 0, 0, ..., 0, 0, 0],\n",
       "       ...,\n",
       "       [0, 0, 0, ..., 0, 1, 0],\n",
       "       [0, 0, 0, ..., 0, 1, 0],\n",
       "       [0, 0, 0, ..., 0, 1, 0]])"
      ]
     },
     "execution_count": 42,
     "metadata": {},
     "output_type": "execute_result"
    }
   ],
   "source": [
    "from sklearn.model_selection import train_test_split\n",
    "import numpy as np\n",
    "\n",
    "\n",
    "# Convert the spectrograms and labels to numpy arrays\n",
    "X = np.array(spectrograms)\n",
    "y = np.array(labels)\n",
    "\n",
    "# Change dtype of y to int\n",
    "y = y.astype(int)\n",
    "\n",
    "\n",
    "# Split the data into training and validation sets\n",
    "X_train, X_val, y_train, y_val = train_test_split(X, y, test_size=0.2)\n",
    "y"
   ]
  },
  {
   "cell_type": "code",
   "execution_count": 43,
   "metadata": {},
   "outputs": [],
   "source": [
    "import torch\n",
    "from torch.utils.data import TensorDataset, DataLoader\n",
    "\n",
    "BATCH_SIZE = 32 # If error, reduce this number\n",
    "\n",
    "\n",
    "# Split the data into training and validation sets\n",
    "X_train, X_val, y_train, y_val = train_test_split(X, y, test_size=0.2)\n",
    "\n",
    "# Convert the training and validation sets to PyTorch tensors\n",
    "X_train_tensor = torch.from_numpy(X_train).float()\n",
    "y_train_tensor = torch.from_numpy(y_train).float()\n",
    "X_val_tensor = torch.from_numpy(X_val).float()\n",
    "y_val_tensor = torch.from_numpy(y_val).float()\n",
    "\n",
    "# Create PyTorch datasets from the tensors\n",
    "train_dataset = TensorDataset(X_train_tensor, y_train_tensor)\n",
    "val_dataset = TensorDataset(X_val_tensor, y_val_tensor)\n",
    "\n",
    "# Create PyTorch dataloaders from the datasets\n",
    "train_loader = DataLoader(train_dataset, batch_size=BATCH_SIZE, shuffle=True)\n",
    "val_loader = DataLoader(val_dataset, batch_size=BATCH_SIZE, shuffle=False)\n"
   ]
  },
  {
   "cell_type": "code",
   "execution_count": 45,
   "metadata": {},
   "outputs": [
    {
     "name": "stdout",
     "output_type": "stream",
     "text": [
      "1\n",
      "CNN\n",
      "device :  cuda\n"
     ]
    },
    {
     "name": "stderr",
     "output_type": "stream",
     "text": [
      "100%|██████████| 380/380 [01:43<00:00,  3.67it/s]\n"
     ]
    },
    {
     "name": "stdout",
     "output_type": "stream",
     "text": [
      "Save model 1\n",
      "Epoch 1/20, Train Loss: 0.25832, Val Loss: 0.23493, Elapsed Time: 110.07s, Estimated Time Left: 2091.36s\n"
     ]
    },
    {
     "name": "stderr",
     "output_type": "stream",
     "text": [
      "100%|██████████| 380/380 [01:56<00:00,  3.27it/s]\n"
     ]
    },
    {
     "name": "stdout",
     "output_type": "stream",
     "text": [
      "Save model 1\n",
      "Epoch 2/20, Train Loss: 0.21919, Val Loss: 0.22119, Elapsed Time: 118.68s, Estimated Time Left: 2136.27s\n"
     ]
    },
    {
     "name": "stderr",
     "output_type": "stream",
     "text": [
      "100%|██████████| 380/380 [01:36<00:00,  3.95it/s]\n"
     ]
    },
    {
     "name": "stdout",
     "output_type": "stream",
     "text": [
      "Save model 1\n",
      "Epoch 3/20, Train Loss: 0.20869, Val Loss: 0.21027, Elapsed Time: 98.56s, Estimated Time Left: 1675.58s\n"
     ]
    },
    {
     "name": "stderr",
     "output_type": "stream",
     "text": [
      "100%|██████████| 380/380 [01:36<00:00,  3.95it/s]\n"
     ]
    },
    {
     "name": "stdout",
     "output_type": "stream",
     "text": [
      "Epoch 4/20, Train Loss: 0.19904, Val Loss: 0.21410, Elapsed Time: 97.90s, Estimated Time Left: 1566.47s\n"
     ]
    },
    {
     "name": "stderr",
     "output_type": "stream",
     "text": [
      "100%|██████████| 380/380 [01:34<00:00,  4.03it/s]\n"
     ]
    },
    {
     "name": "stdout",
     "output_type": "stream",
     "text": [
      "Epoch 5/20, Train Loss: 0.18966, Val Loss: 0.21263, Elapsed Time: 96.20s, Estimated Time Left: 1443.07s\n"
     ]
    },
    {
     "name": "stderr",
     "output_type": "stream",
     "text": [
      "100%|██████████| 380/380 [01:34<00:00,  4.02it/s]\n"
     ]
    },
    {
     "name": "stdout",
     "output_type": "stream",
     "text": [
      "Epoch 6/20, Train Loss: 0.17775, Val Loss: 0.21179, Elapsed Time: 96.27s, Estimated Time Left: 1347.72s\n"
     ]
    },
    {
     "name": "stderr",
     "output_type": "stream",
     "text": [
      "100%|██████████| 380/380 [01:34<00:00,  4.02it/s]\n"
     ]
    },
    {
     "name": "stdout",
     "output_type": "stream",
     "text": [
      "Epoch 7/20, Train Loss: 0.16213, Val Loss: 0.22523, Elapsed Time: 96.32s, Estimated Time Left: 1252.13s\n"
     ]
    },
    {
     "name": "stderr",
     "output_type": "stream",
     "text": [
      "100%|██████████| 380/380 [01:34<00:00,  4.03it/s]\n"
     ]
    },
    {
     "name": "stdout",
     "output_type": "stream",
     "text": [
      "Epoch 8/20, Train Loss: 0.14225, Val Loss: 0.23745, Elapsed Time: 96.11s, Estimated Time Left: 1153.33s\n"
     ]
    },
    {
     "name": "stderr",
     "output_type": "stream",
     "text": [
      "100%|██████████| 380/380 [01:34<00:00,  4.04it/s]\n"
     ]
    },
    {
     "name": "stdout",
     "output_type": "stream",
     "text": [
      "Epoch 9/20, Train Loss: 0.11183, Val Loss: 0.25446, Elapsed Time: 95.96s, Estimated Time Left: 1055.55s\n"
     ]
    },
    {
     "name": "stderr",
     "output_type": "stream",
     "text": [
      "100%|██████████| 380/380 [01:34<00:00,  4.03it/s]\n"
     ]
    },
    {
     "name": "stdout",
     "output_type": "stream",
     "text": [
      "Epoch 10/20, Train Loss: 0.07513, Val Loss: 0.30004, Elapsed Time: 95.98s, Estimated Time Left: 959.80s\n"
     ]
    },
    {
     "name": "stderr",
     "output_type": "stream",
     "text": [
      "100%|██████████| 380/380 [01:34<00:00,  4.03it/s]\n"
     ]
    },
    {
     "name": "stdout",
     "output_type": "stream",
     "text": [
      "Epoch 11/20, Train Loss: 0.04147, Val Loss: 0.37801, Elapsed Time: 96.03s, Estimated Time Left: 864.27s\n"
     ]
    },
    {
     "name": "stderr",
     "output_type": "stream",
     "text": [
      "100%|██████████| 380/380 [01:34<00:00,  4.01it/s]\n"
     ]
    },
    {
     "name": "stdout",
     "output_type": "stream",
     "text": [
      "Epoch 12/20, Train Loss: 0.02105, Val Loss: 0.43920, Elapsed Time: 96.55s, Estimated Time Left: 772.42s\n"
     ]
    },
    {
     "name": "stderr",
     "output_type": "stream",
     "text": [
      "100%|██████████| 380/380 [01:33<00:00,  4.08it/s]\n"
     ]
    },
    {
     "name": "stdout",
     "output_type": "stream",
     "text": [
      "Epoch 13/20, Train Loss: 0.00996, Val Loss: 0.57149, Elapsed Time: 94.96s, Estimated Time Left: 664.71s\n"
     ]
    },
    {
     "name": "stderr",
     "output_type": "stream",
     "text": [
      "100%|██████████| 380/380 [01:32<00:00,  4.11it/s]\n"
     ]
    },
    {
     "name": "stdout",
     "output_type": "stream",
     "text": [
      "Epoch 14/20, Train Loss: 0.00516, Val Loss: 0.62379, Elapsed Time: 94.25s, Estimated Time Left: 565.50s\n"
     ]
    },
    {
     "name": "stderr",
     "output_type": "stream",
     "text": [
      "100%|██████████| 380/380 [01:34<00:00,  4.03it/s]\n"
     ]
    },
    {
     "name": "stdout",
     "output_type": "stream",
     "text": [
      "Epoch 15/20, Train Loss: 0.00670, Val Loss: 0.63004, Elapsed Time: 96.20s, Estimated Time Left: 480.98s\n"
     ]
    },
    {
     "name": "stderr",
     "output_type": "stream",
     "text": [
      "100%|██████████| 380/380 [01:34<00:00,  4.04it/s]\n"
     ]
    },
    {
     "name": "stdout",
     "output_type": "stream",
     "text": [
      "Epoch 16/20, Train Loss: 0.00896, Val Loss: 0.63093, Elapsed Time: 95.96s, Estimated Time Left: 383.84s\n"
     ]
    },
    {
     "name": "stderr",
     "output_type": "stream",
     "text": [
      "100%|██████████| 380/380 [01:34<00:00,  4.03it/s]\n"
     ]
    },
    {
     "name": "stdout",
     "output_type": "stream",
     "text": [
      "Epoch 17/20, Train Loss: 0.00779, Val Loss: 0.68878, Elapsed Time: 96.02s, Estimated Time Left: 288.06s\n"
     ]
    },
    {
     "name": "stderr",
     "output_type": "stream",
     "text": [
      "100%|██████████| 380/380 [01:34<00:00,  4.03it/s]\n"
     ]
    },
    {
     "name": "stdout",
     "output_type": "stream",
     "text": [
      "Epoch 18/20, Train Loss: 0.00750, Val Loss: 0.75782, Elapsed Time: 96.00s, Estimated Time Left: 192.01s\n"
     ]
    },
    {
     "name": "stderr",
     "output_type": "stream",
     "text": [
      "100%|██████████| 380/380 [01:34<00:00,  4.03it/s]\n"
     ]
    },
    {
     "name": "stdout",
     "output_type": "stream",
     "text": [
      "Epoch 19/20, Train Loss: 0.00401, Val Loss: 0.77493, Elapsed Time: 96.00s, Estimated Time Left: 96.00s\n"
     ]
    },
    {
     "name": "stderr",
     "output_type": "stream",
     "text": [
      "100%|██████████| 380/380 [01:34<00:00,  4.04it/s]\n"
     ]
    },
    {
     "name": "stdout",
     "output_type": "stream",
     "text": [
      "Epoch 20/20, Train Loss: 0.00522, Val Loss: 0.80959, Elapsed Time: 95.95s, Estimated Time Left: 0.00s\n",
      "Finished Training\n"
     ]
    },
    {
     "data": {
      "image/png": "[encoded data removed]",
      "text/plain": [
       "<Figure size 640x480 with 1 Axes>"
      ]
     },
     "metadata": {},
     "output_type": "display_data"
    },
    {
     "name": "stderr",
     "output_type": "stream",
     "text": [
      "c:\\ProgramData\\anaconda3\\Lib\\site-packages\\torchvision\\models\\_utils.py:208: UserWarning: The parameter 'pretrained' is deprecated since 0.13 and may be removed in the future, please use 'weights' instead.\n",
      "  warnings.warn(\n",
      "c:\\ProgramData\\anaconda3\\Lib\\site-packages\\torchvision\\models\\_utils.py:223: UserWarning: Arguments other than a weight enum or `None` for 'weights' are deprecated since 0.13 and may be removed in the future. The current behavior is equivalent to passing `weights=ResNet18_Weights.IMAGENET1K_V1`. You can also use `weights=ResNet18_Weights.DEFAULT` to get the most up-to-date weights.\n",
      "  warnings.warn(msg)\n"
     ]
    },
    {
     "name": "stdout",
     "output_type": "stream",
     "text": [
      "2\n",
      "Resnet18\n",
      "device :  cuda\n"
     ]
    },
    {
     "name": "stderr",
     "output_type": "stream",
     "text": [
      "100%|██████████| 380/380 [00:23<00:00, 15.99it/s]\n"
     ]
    },
    {
     "name": "stdout",
     "output_type": "stream",
     "text": [
      "Save model 2\n",
      "Epoch 1/20, Train Loss: 0.21496, Val Loss: 0.21684, Elapsed Time: 25.39s, Estimated Time Left: 482.35s\n"
     ]
    },
    {
     "name": "stderr",
     "output_type": "stream",
     "text": [
      "100%|██████████| 380/380 [00:23<00:00, 16.11it/s]\n"
     ]
    },
    {
     "name": "stdout",
     "output_type": "stream",
     "text": [
      "Save model 2\n",
      "Epoch 2/20, Train Loss: 0.18717, Val Loss: 0.19525, Elapsed Time: 25.22s, Estimated Time Left: 453.88s\n"
     ]
    },
    {
     "name": "stderr",
     "output_type": "stream",
     "text": [
      "100%|██████████| 380/380 [00:23<00:00, 16.13it/s]\n"
     ]
    },
    {
     "name": "stdout",
     "output_type": "stream",
     "text": [
      "Epoch 3/20, Train Loss: 0.17245, Val Loss: 0.20002, Elapsed Time: 25.13s, Estimated Time Left: 427.25s\n"
     ]
    },
    {
     "name": "stderr",
     "output_type": "stream",
     "text": [
      "100%|██████████| 380/380 [00:23<00:00, 16.13it/s]\n"
     ]
    },
    {
     "name": "stdout",
     "output_type": "stream",
     "text": [
      "Save model 2\n",
      "Epoch 4/20, Train Loss: 0.16191, Val Loss: 0.18810, Elapsed Time: 25.21s, Estimated Time Left: 403.41s\n"
     ]
    },
    {
     "name": "stderr",
     "output_type": "stream",
     "text": [
      "100%|██████████| 380/380 [00:23<00:00, 15.87it/s]\n"
     ]
    },
    {
     "name": "stdout",
     "output_type": "stream",
     "text": [
      "Epoch 5/20, Train Loss: 0.15099, Val Loss: 0.21141, Elapsed Time: 25.53s, Estimated Time Left: 382.97s\n"
     ]
    },
    {
     "name": "stderr",
     "output_type": "stream",
     "text": [
      "100%|██████████| 380/380 [00:23<00:00, 16.05it/s]\n"
     ]
    },
    {
     "name": "stdout",
     "output_type": "stream",
     "text": [
      "Epoch 6/20, Train Loss: 0.13972, Val Loss: 0.18992, Elapsed Time: 25.28s, Estimated Time Left: 353.94s\n"
     ]
    },
    {
     "name": "stderr",
     "output_type": "stream",
     "text": [
      "100%|██████████| 380/380 [00:23<00:00, 16.00it/s]\n"
     ]
    },
    {
     "name": "stdout",
     "output_type": "stream",
     "text": [
      "Epoch 7/20, Train Loss: 0.12104, Val Loss: 0.18998, Elapsed Time: 25.35s, Estimated Time Left: 329.53s\n"
     ]
    },
    {
     "name": "stderr",
     "output_type": "stream",
     "text": [
      "100%|██████████| 380/380 [00:23<00:00, 16.16it/s]\n"
     ]
    },
    {
     "name": "stdout",
     "output_type": "stream",
     "text": [
      "Epoch 8/20, Train Loss: 0.10091, Val Loss: 0.21946, Elapsed Time: 25.10s, Estimated Time Left: 301.25s\n"
     ]
    },
    {
     "name": "stderr",
     "output_type": "stream",
     "text": [
      "100%|██████████| 380/380 [00:23<00:00, 16.12it/s]\n"
     ]
    },
    {
     "name": "stdout",
     "output_type": "stream",
     "text": [
      "Epoch 9/20, Train Loss: 0.07455, Val Loss: 0.24267, Elapsed Time: 25.15s, Estimated Time Left: 276.64s\n"
     ]
    },
    {
     "name": "stderr",
     "output_type": "stream",
     "text": [
      "100%|██████████| 380/380 [00:23<00:00, 16.23it/s]\n"
     ]
    },
    {
     "name": "stdout",
     "output_type": "stream",
     "text": [
      "Epoch 10/20, Train Loss: 0.05017, Val Loss: 0.25350, Elapsed Time: 24.98s, Estimated Time Left: 249.82s\n"
     ]
    },
    {
     "name": "stderr",
     "output_type": "stream",
     "text": [
      "100%|██████████| 380/380 [00:23<00:00, 16.23it/s]\n"
     ]
    },
    {
     "name": "stdout",
     "output_type": "stream",
     "text": [
      "Epoch 11/20, Train Loss: 0.03202, Val Loss: 0.31121, Elapsed Time: 24.99s, Estimated Time Left: 224.87s\n"
     ]
    },
    {
     "name": "stderr",
     "output_type": "stream",
     "text": [
      "100%|██████████| 380/380 [00:23<00:00, 16.24it/s]\n"
     ]
    },
    {
     "name": "stdout",
     "output_type": "stream",
     "text": [
      "Epoch 12/20, Train Loss: 0.02147, Val Loss: 0.33870, Elapsed Time: 24.97s, Estimated Time Left: 199.77s\n"
     ]
    },
    {
     "name": "stderr",
     "output_type": "stream",
     "text": [
      "100%|██████████| 380/380 [00:23<00:00, 16.24it/s]\n"
     ]
    },
    {
     "name": "stdout",
     "output_type": "stream",
     "text": [
      "Epoch 13/20, Train Loss: 0.01747, Val Loss: 0.36356, Elapsed Time: 24.97s, Estimated Time Left: 174.78s\n"
     ]
    },
    {
     "name": "stderr",
     "output_type": "stream",
     "text": [
      "100%|██████████| 380/380 [00:23<00:00, 16.14it/s]\n"
     ]
    },
    {
     "name": "stdout",
     "output_type": "stream",
     "text": [
      "Epoch 14/20, Train Loss: 0.01613, Val Loss: 0.35428, Elapsed Time: 25.12s, Estimated Time Left: 150.69s\n"
     ]
    },
    {
     "name": "stderr",
     "output_type": "stream",
     "text": [
      "100%|██████████| 380/380 [00:23<00:00, 16.11it/s]\n"
     ]
    },
    {
     "name": "stdout",
     "output_type": "stream",
     "text": [
      "Epoch 15/20, Train Loss: 0.01475, Val Loss: 0.37103, Elapsed Time: 25.18s, Estimated Time Left: 125.89s\n"
     ]
    },
    {
     "name": "stderr",
     "output_type": "stream",
     "text": [
      "100%|██████████| 380/380 [00:23<00:00, 16.22it/s]\n"
     ]
    },
    {
     "name": "stdout",
     "output_type": "stream",
     "text": [
      "Epoch 16/20, Train Loss: 0.01434, Val Loss: 0.40314, Elapsed Time: 25.01s, Estimated Time Left: 100.04s\n"
     ]
    },
    {
     "name": "stderr",
     "output_type": "stream",
     "text": [
      "100%|██████████| 380/380 [00:23<00:00, 16.21it/s]\n"
     ]
    },
    {
     "name": "stdout",
     "output_type": "stream",
     "text": [
      "Epoch 17/20, Train Loss: 0.01162, Val Loss: 0.37559, Elapsed Time: 25.04s, Estimated Time Left: 75.13s\n"
     ]
    },
    {
     "name": "stderr",
     "output_type": "stream",
     "text": [
      "100%|██████████| 380/380 [00:23<00:00, 15.97it/s]\n"
     ]
    },
    {
     "name": "stdout",
     "output_type": "stream",
     "text": [
      "Epoch 18/20, Train Loss: 0.01340, Val Loss: 0.39682, Elapsed Time: 25.40s, Estimated Time Left: 50.80s\n"
     ]
    },
    {
     "name": "stderr",
     "output_type": "stream",
     "text": [
      "100%|██████████| 380/380 [00:23<00:00, 15.88it/s]\n"
     ]
    },
    {
     "name": "stdout",
     "output_type": "stream",
     "text": [
      "Epoch 19/20, Train Loss: 0.00990, Val Loss: 0.40083, Elapsed Time: 25.56s, Estimated Time Left: 25.56s\n"
     ]
    },
    {
     "name": "stderr",
     "output_type": "stream",
     "text": [
      "100%|██████████| 380/380 [00:23<00:00, 16.09it/s]\n"
     ]
    },
    {
     "name": "stdout",
     "output_type": "stream",
     "text": [
      "Epoch 20/20, Train Loss: 0.00749, Val Loss: 0.41315, Elapsed Time: 25.20s, Estimated Time Left: 0.00s\n",
      "Finished Training\n"
     ]
    },
    {
     "data": {
      "image/png": "[encoded data removed]",
      "text/plain": [
       "<Figure size 640x480 with 1 Axes>"
      ]
     },
     "metadata": {},
     "output_type": "display_data"
    },
    {
     "name": "stdout",
     "output_type": "stream",
     "text": [
      "3\n"
     ]
    },
    {
     "name": "stderr",
     "output_type": "stream",
     "text": [
      "c:\\ProgramData\\anaconda3\\Lib\\site-packages\\torchvision\\models\\_utils.py:223: UserWarning: Arguments other than a weight enum or `None` for 'weights' are deprecated since 0.13 and may be removed in the future. The current behavior is equivalent to passing `weights=ResNet34_Weights.IMAGENET1K_V1`. You can also use `weights=ResNet34_Weights.DEFAULT` to get the most up-to-date weights.\n",
      "  warnings.warn(msg)\n"
     ]
    },
    {
     "name": "stdout",
     "output_type": "stream",
     "text": [
      "Resnet34\n",
      "device :  cuda\n"
     ]
    },
    {
     "name": "stderr",
     "output_type": "stream",
     "text": [
      "100%|██████████| 380/380 [01:35<00:00,  3.96it/s]\n"
     ]
    },
    {
     "name": "stdout",
     "output_type": "stream",
     "text": [
      "Save model 3\n",
      "Epoch 1/20, Train Loss: 0.21949, Val Loss: 0.19744, Elapsed Time: 99.29s, Estimated Time Left: 1886.58s\n"
     ]
    },
    {
     "name": "stderr",
     "output_type": "stream",
     "text": [
      "100%|██████████| 380/380 [01:36<00:00,  3.93it/s]\n"
     ]
    },
    {
     "name": "stdout",
     "output_type": "stream",
     "text": [
      "Epoch 2/20, Train Loss: 0.18895, Val Loss: 0.20199, Elapsed Time: 100.10s, Estimated Time Left: 1801.81s\n"
     ]
    },
    {
     "name": "stderr",
     "output_type": "stream",
     "text": [
      "100%|██████████| 380/380 [01:36<00:00,  3.94it/s]\n"
     ]
    },
    {
     "name": "stdout",
     "output_type": "stream",
     "text": [
      "Save model 3\n",
      "Epoch 3/20, Train Loss: 0.17655, Val Loss: 0.18266, Elapsed Time: 99.77s, Estimated Time Left: 1696.12s\n"
     ]
    },
    {
     "name": "stderr",
     "output_type": "stream",
     "text": [
      "100%|██████████| 380/380 [01:36<00:00,  3.95it/s]\n"
     ]
    },
    {
     "name": "stdout",
     "output_type": "stream",
     "text": [
      "Save model 3\n",
      "Epoch 4/20, Train Loss: 0.16633, Val Loss: 0.17913, Elapsed Time: 99.69s, Estimated Time Left: 1595.03s\n"
     ]
    },
    {
     "name": "stderr",
     "output_type": "stream",
     "text": [
      "100%|██████████| 380/380 [01:36<00:00,  3.94it/s]\n"
     ]
    },
    {
     "name": "stdout",
     "output_type": "stream",
     "text": [
      "Save model 3\n",
      "Epoch 5/20, Train Loss: 0.15659, Val Loss: 0.17542, Elapsed Time: 99.79s, Estimated Time Left: 1496.87s\n"
     ]
    },
    {
     "name": "stderr",
     "output_type": "stream",
     "text": [
      "100%|██████████| 380/380 [01:36<00:00,  3.95it/s]\n"
     ]
    },
    {
     "name": "stdout",
     "output_type": "stream",
     "text": [
      "Epoch 6/20, Train Loss: 0.14694, Val Loss: 0.18153, Elapsed Time: 99.57s, Estimated Time Left: 1394.04s\n"
     ]
    },
    {
     "name": "stderr",
     "output_type": "stream",
     "text": [
      "100%|██████████| 380/380 [01:35<00:00,  3.98it/s]\n"
     ]
    },
    {
     "name": "stdout",
     "output_type": "stream",
     "text": [
      "Epoch 7/20, Train Loss: 0.13384, Val Loss: 0.18079, Elapsed Time: 98.85s, Estimated Time Left: 1285.01s\n"
     ]
    },
    {
     "name": "stderr",
     "output_type": "stream",
     "text": [
      "100%|██████████| 380/380 [01:35<00:00,  3.98it/s]\n"
     ]
    },
    {
     "name": "stdout",
     "output_type": "stream",
     "text": [
      "Epoch 8/20, Train Loss: 0.11742, Val Loss: 0.20066, Elapsed Time: 98.84s, Estimated Time Left: 1186.06s\n"
     ]
    },
    {
     "name": "stderr",
     "output_type": "stream",
     "text": [
      "100%|██████████| 380/380 [01:35<00:00,  3.98it/s]\n"
     ]
    },
    {
     "name": "stdout",
     "output_type": "stream",
     "text": [
      "Epoch 9/20, Train Loss: 0.09658, Val Loss: 0.20779, Elapsed Time: 98.81s, Estimated Time Left: 1086.94s\n"
     ]
    },
    {
     "name": "stderr",
     "output_type": "stream",
     "text": [
      "100%|██████████| 380/380 [01:35<00:00,  3.97it/s]\n"
     ]
    },
    {
     "name": "stdout",
     "output_type": "stream",
     "text": [
      "Epoch 10/20, Train Loss: 0.07187, Val Loss: 0.22304, Elapsed Time: 98.91s, Estimated Time Left: 989.08s\n"
     ]
    },
    {
     "name": "stderr",
     "output_type": "stream",
     "text": [
      "100%|██████████| 380/380 [01:35<00:00,  3.98it/s]\n"
     ]
    },
    {
     "name": "stdout",
     "output_type": "stream",
     "text": [
      "Epoch 11/20, Train Loss: 0.05090, Val Loss: 0.26250, Elapsed Time: 98.67s, Estimated Time Left: 888.01s\n"
     ]
    },
    {
     "name": "stderr",
     "output_type": "stream",
     "text": [
      "100%|██████████| 380/380 [01:35<00:00,  3.96it/s]\n"
     ]
    },
    {
     "name": "stdout",
     "output_type": "stream",
     "text": [
      "Epoch 12/20, Train Loss: 0.03507, Val Loss: 0.32697, Elapsed Time: 99.23s, Estimated Time Left: 793.88s\n"
     ]
    },
    {
     "name": "stderr",
     "output_type": "stream",
     "text": [
      "100%|██████████| 380/380 [01:36<00:00,  3.92it/s]\n"
     ]
    },
    {
     "name": "stdout",
     "output_type": "stream",
     "text": [
      "Epoch 13/20, Train Loss: 0.02333, Val Loss: 0.32397, Elapsed Time: 100.32s, Estimated Time Left: 702.27s\n"
     ]
    },
    {
     "name": "stderr",
     "output_type": "stream",
     "text": [
      "100%|██████████| 380/380 [01:36<00:00,  3.95it/s]\n"
     ]
    },
    {
     "name": "stdout",
     "output_type": "stream",
     "text": [
      "Epoch 14/20, Train Loss: 0.01843, Val Loss: 0.34674, Elapsed Time: 99.48s, Estimated Time Left: 596.90s\n"
     ]
    },
    {
     "name": "stderr",
     "output_type": "stream",
     "text": [
      "100%|██████████| 380/380 [01:36<00:00,  3.95it/s]\n"
     ]
    },
    {
     "name": "stdout",
     "output_type": "stream",
     "text": [
      "Epoch 15/20, Train Loss: 0.01689, Val Loss: 0.34764, Elapsed Time: 99.56s, Estimated Time Left: 497.80s\n"
     ]
    },
    {
     "name": "stderr",
     "output_type": "stream",
     "text": [
      "100%|██████████| 380/380 [01:35<00:00,  3.97it/s]\n"
     ]
    },
    {
     "name": "stdout",
     "output_type": "stream",
     "text": [
      "Epoch 16/20, Train Loss: 0.01459, Val Loss: 0.35014, Elapsed Time: 99.07s, Estimated Time Left: 396.28s\n"
     ]
    },
    {
     "name": "stderr",
     "output_type": "stream",
     "text": [
      "100%|██████████| 380/380 [01:35<00:00,  4.00it/s]\n"
     ]
    },
    {
     "name": "stdout",
     "output_type": "stream",
     "text": [
      "Epoch 17/20, Train Loss: 0.01541, Val Loss: 0.37057, Elapsed Time: 98.28s, Estimated Time Left: 294.84s\n"
     ]
    },
    {
     "name": "stderr",
     "output_type": "stream",
     "text": [
      "100%|██████████| 380/380 [01:36<00:00,  3.94it/s]\n"
     ]
    },
    {
     "name": "stdout",
     "output_type": "stream",
     "text": [
      "Epoch 18/20, Train Loss: 0.01171, Val Loss: 0.40390, Elapsed Time: 99.75s, Estimated Time Left: 199.51s\n"
     ]
    },
    {
     "name": "stderr",
     "output_type": "stream",
     "text": [
      "100%|██████████| 380/380 [01:36<00:00,  3.94it/s]\n"
     ]
    },
    {
     "name": "stdout",
     "output_type": "stream",
     "text": [
      "Epoch 19/20, Train Loss: 0.01315, Val Loss: 0.37745, Elapsed Time: 99.79s, Estimated Time Left: 99.79s\n"
     ]
    },
    {
     "name": "stderr",
     "output_type": "stream",
     "text": [
      "100%|██████████| 380/380 [01:37<00:00,  3.88it/s]\n"
     ]
    },
    {
     "name": "stdout",
     "output_type": "stream",
     "text": [
      "Epoch 20/20, Train Loss: 0.01187, Val Loss: 0.38097, Elapsed Time: 101.39s, Estimated Time Left: 0.00s\n",
      "Finished Training\n"
     ]
    },
    {
     "data": {
      "image/png": "[encoded data removed]",
      "text/plain": [
       "<Figure size 640x480 with 1 Axes>"
      ]
     },
     "metadata": {},
     "output_type": "display_data"
    }
   ],
   "source": [
    "for i in range(1,4):\n",
    "    print(i)\n",
    "    model = ModelSelect(i)\n",
    "    import torch\n",
    "    import time\n",
    "    import torch.nn as nn\n",
    "    from torch.optim import Adam\n",
    "    import matplotlib.pyplot as plt\n",
    "    from torch.nn import DataParallel\n",
    "    import platform\n",
    "    device = 'mps' if platform.system() == 'Darwin' else torch.device('cuda' if torch.cuda.is_available() else 'cpu')\n",
    "    print(\"device : \",device)\n",
    "    # Create the model, loss function and optimizer\n",
    "    model.to(device)\n",
    "    if torch.cuda.device_count() > 1:  # Check if multiple GPUs are available\n",
    "        print(\"Let's use\", torch.cuda.device_count(), \"GPUs!\")\n",
    "        model = DataParallel(model)\n",
    "        \n",
    "    criterion = nn.BCEWithLogitsLoss()\n",
    "    optimizer = Adam(model.parameters())\n",
    "\n",
    "    # For storing losses\n",
    "    train_losses = []\n",
    "    val_losses = []\n",
    "\n",
    "    # Training loop\n",
    "    num_epochs = 20\n",
    "    best_loss = float('inf')\n",
    "    for epoch in range(num_epochs):\n",
    "        model.train()\n",
    "        running_loss = 0.0\n",
    "        start_time = time.time()\n",
    "\n",
    "        for inputs, labels in tqdm(train_loader):\n",
    "            #print(inputs.shape)\n",
    "            inputs, labels = inputs.to(device), labels.to(device)\n",
    "\n",
    "            optimizer.zero_grad()\n",
    "            outputs = model(inputs)\n",
    "            loss = criterion(outputs, labels)\n",
    "            loss.backward()\n",
    "            optimizer.step()\n",
    "\n",
    "            running_loss += loss.item()\n",
    "\n",
    "        train_loss = running_loss / len(train_loader)\n",
    "        train_losses.append(train_loss)\n",
    "\n",
    "        # Validation\n",
    "        model.eval()\n",
    "        running_loss = 0.0\n",
    "        with torch.no_grad():\n",
    "            for inputs, labels in val_loader:\n",
    "                inputs, labels = inputs.to(device), labels.to(device)\n",
    "                outputs = model(inputs)\n",
    "                loss = criterion(outputs, labels)\n",
    "                running_loss += loss.item()\n",
    "\n",
    "        val_loss = running_loss / len(val_loader)\n",
    "        val_losses.append(val_loss)\n",
    "\n",
    "        # Save the model if it's the best so far\n",
    "        if val_loss < best_loss:\n",
    "            model_name = f'AI2_model{i}.pth'  # Unique name for each model\n",
    "            torch.save(model.state_dict(), model_name)\n",
    "            best_loss = val_loss\n",
    "            print(f\"Save model {i}\")\n",
    "\n",
    "        end_time = time.time()\n",
    "        elapsed_time = end_time - start_time\n",
    "        estimated_time = elapsed_time * (num_epochs - epoch - 1)\n",
    "        print(f\"Epoch {epoch + 1}/{num_epochs}, Train Loss: {train_loss:.5f}, Val Loss: {val_loss:.5f}, Elapsed Time: {elapsed_time:.2f}s, Estimated Time Left: {estimated_time:.2f}s\")\n",
    "\n",
    "    print(\"Finished Training\")\n",
    "\n",
    "    # Plot the losses\n",
    "    plt.figure()\n",
    "    plt.plot(train_losses, label='Train Loss')\n",
    "    plt.plot(val_losses, label='Val Loss')\n",
    "    plt.title(f'Model {i}')  # label the plot with the model number\n",
    "    plt.legend()\n",
    "    plt.savefig(f'model_{i}_losses.png')  # save the figure as a png\n",
    "    plt.show()"
   ]
  },
  {
   "cell_type": "code",
   "execution_count": null,
   "metadata": {},
   "outputs": [
    {
     "data": {
      "image/png": "[encoded data removed]",
      "text/plain": [
       "<Figure size 640x480 with 1 Axes>"
      ]
     },
     "metadata": {},
     "output_type": "display_data"
    }
   ],
   "source": [
    "# Plot the losses\n",
    "plt.plot(train_losses, label='Train Loss')\n",
    "plt.plot(val_losses, label='Val Loss')\n",
    "plt.legend()\n",
    "plt.show()"
   ]
  },
  {
   "cell_type": "code",
   "execution_count": 46,
   "metadata": {},
   "outputs": [
    {
     "name": "stdout",
     "output_type": "stream",
     "text": [
      "Validation Accuracy: 0.4317\n"
     ]
    }
   ],
   "source": [
    "from sklearn.metrics import accuracy_score\n",
    "\n",
    "model.eval()\n",
    "val_labels_list = []\n",
    "val_preds_list = []\n",
    "\n",
    "with torch.no_grad():\n",
    "    for inputs, labels in val_loader:\n",
    "        inputs, labels = inputs.to(device), labels.to(device)\n",
    "        outputs = model(inputs)\n",
    "        predicted = torch.round(torch.sigmoid(outputs)).cpu().numpy()\n",
    "        labels_np = labels.cpu().numpy()\n",
    "\n",
    "        val_labels_list.extend(labels_np)\n",
    "        val_preds_list.extend(predicted)\n",
    "\n",
    "val_accuracy = accuracy_score(val_labels_list, val_preds_list)\n",
    "print(f\"Validation Accuracy: {val_accuracy:.4f}\")"
   ]
  },
  {
   "cell_type": "code",
   "execution_count": null,
   "metadata": {},
   "outputs": [
    {
     "name": "stdout",
     "output_type": "stream",
     "text": [
      "Predicted label: siren, Probability: 100.00%\n",
      "Predicted labels: ('siren',)\n"
     ]
    }
   ],
   "source": [
    "# DEVICE\n",
    "\n",
    "import sounddevice as sd\n",
    "import librosa\n",
    "import numpy as np\n",
    "import torch\n",
    "\n",
    "def get_mel_spectrogram(y, sr=22050, n_fft=2048, hop_length=512, n_mels=128):\n",
    "    # Compute the spectrogram\n",
    "    D = librosa.stft(y, n_fft=n_fft, hop_length=hop_length)\n",
    "    D_abs = np.abs(D)\n",
    "    # Convert to Mel scale\n",
    "    mel_spec = librosa.feature.melspectrogram(S=librosa.amplitude_to_db(D_abs), sr=sr, n_mels=n_mels)\n",
    "    return mel_spec\n",
    "\n",
    "# Load the trained model\n",
    "model = AudioClassifier()\n",
    "\n",
    "try:\n",
    "    model.load_state_dict(torch.load('AI2.pth'))\n",
    "except:\n",
    "    try:\n",
    "        model.load_state_dict(torch.load('AI2.pth', map_location=torch.device('cpu')))\n",
    "    except:\n",
    "        state_dict = torch.load('AI2.pth', map_location=torch.device('cpu'))\n",
    "        new_state_dict = {k.replace(\"module.\", \"\"): v for k, v in state_dict.items()}\n",
    "model.eval()\n",
    "\n",
    "# Record audio\n",
    "duration = 2  # seconds\n",
    "fs = 44100  # Sample rate\n",
    "recording = sd.rec(int(duration * fs), samplerate=fs, channels=1)\n",
    "sd.wait()  # Wait until recording is finished\n",
    "\n",
    "# Preprocess audio\n",
    "recording = np.squeeze(recording)  # Remove the singleton dimension\n",
    "recording = librosa.resample(recording, orig_sr=fs, target_sr=22050)  # Resample the recording\n",
    "mel_spec = get_mel_spectrogram(recording)  # Compute the Mel spectrogram\n",
    "\n",
    "# Make prediction\n",
    "mel_spec = torch.from_numpy(mel_spec).unsqueeze(0).float()  # Add two singleton dimensions at the beginning\n",
    "outputs = model(mel_spec)\n",
    "probs = torch.nn.functional.softmax(outputs, dim=1)\n",
    "top_prob, top_label = torch.max(probs, dim=1)\n",
    "\n",
    "#print(f\"Predicted label: {le.inverse_transform([top_label.item()])[0]}\")\n",
    "#print(f\"Probability: {top_prob.item() * 100:.2f}%\")\n",
    "# Define the threshold\n",
    "threshold = 0.0\n",
    "\n",
    "# Apply threshold to probabilities\n",
    "high_prob_mask = probs > threshold\n",
    "\n",
    "\n",
    "# Convert probabilities tensor to numpy array\n",
    "probs_array = probs.detach().numpy()\n",
    "\n",
    "# Iterate over all labels and their corresponding probabilities\n",
    "for label, prob in zip(mlb.classes_, probs_array[0]):\n",
    "    print(f\"Label: {label}, Probability: {prob * 100:.2f}%\")\n",
    "\n",
    "# Get labels for high-probability predictions\n",
    "\n",
    "#high_prob_labels = le.inverse_transform(torch.where(high_prob_mask)[1])\n",
    "# Get probabilities for high-confidence predictions\n",
    "high_prob_probs = probs[high_prob_mask]\n",
    "\n",
    "# Get labels for high-confidence predictions\n",
    "high_prob_labels = mlb.inverse_transform(high_prob_mask.numpy())\n",
    "\n",
    "# Convert high_prob_labels and high_prob_probs to lists\n",
    "high_prob_labels = high_prob_labels[0]\n",
    "high_prob_probs = high_prob_probs.tolist()\n",
    "\n",
    "# Print labels and corresponding probabilities\n",
    "for label, prob in zip(high_prob_labels, high_prob_probs):\n",
    "    print(f\"Predicted label: {label}, Probability: {prob * 100:.2f}%\")\n",
    "\n",
    "\n",
    "print(f\"Predicted labels: {high_prob_labels}\")\n"
   ]
  },
  {
   "cell_type": "markdown",
   "metadata": {},
   "source": [
    "# Diary\n",
    "2023.07.24 0109i\n",
    "\n",
    "I honestly spent like 15 hours to make this today. It took a lot of time but since I did 'urban 8 sound' before. It was slightly OK but still frustrating. I was almost done finishing this project then I noticed that some of the label has MORE than one label at a time. Then I have to do this whole thing over again . That was my first drag, and the second drag was at the fact I accidentally deleted the whole thing pressing undo in GitHub. Thankfully I had all the things in chat GPT, so that from there I was easily recovered.  \n",
    "I still have a problem with real time analizer but I can sort it out later  \n",
    "I have to go to work tommorrow, I have to go to sleep.  \n",
    "\n",
    "\n",
    "2023.07.25 1555i\n"
   ]
  }
 ],
 "metadata": {
  "kernelspec": {
   "display_name": "torchenv",
   "language": "python",
   "name": "python3"
  },
  "language_info": {
   "codemirror_mode": {
    "name": "ipython",
    "version": 3
   },
   "file_extension": ".py",
   "mimetype": "text/x-python",
   "name": "python",
   "nbconvert_exporter": "python",
   "pygments_lexer": "ipython3",
   "version": "3.11.3"
  },
  "orig_nbformat": 4
 },
 "nbformat": 4,
 "nbformat_minor": 2
}
