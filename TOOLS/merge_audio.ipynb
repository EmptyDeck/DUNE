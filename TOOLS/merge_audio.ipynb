{
 "cells": [
  {
   "cell_type": "markdown",
   "metadata": {},
   "source": [
    "# Defult\n"
   ]
  },
  {
   "cell_type": "code",
   "execution_count": 8,
   "metadata": {},
   "outputs": [
    {
     "data": {
      "text/plain": [
       "['jackhammer',\n",
       " 'street_music',\n",
       " 'siren',\n",
       " 'dog_bark',\n",
       " 'children_playing',\n",
       " 'air_conditioner',\n",
       " 'engine_idling',\n",
       " 'car_horn',\n",
       " 'drilling',\n",
       " 'gun_shot']"
      ]
     },
     "execution_count": 8,
     "metadata": {},
     "output_type": "execute_result"
    }
   ],
   "source": [
    "from pydub import AudioSegment\n",
    "import os\n",
    "\n",
    "base_folder_path = '/Volumes/새 볼륨/GARAGE/@DUNE/@AI/Sound Classification/archive/new/classified_folders'\n",
    "save_path = 'merged'\n",
    "\n",
    "# classified_folders 아래의 모든 폴더를 가져옵니다.\n",
    "all_folders = [folder for folder in os.listdir(base_folder_path) if os.path.isdir(os.path.join(base_folder_path, folder))]\n",
    "all_folders.remove('merged')\n",
    "\n",
    "all_folders"
   ]
  },
  {
   "cell_type": "code",
   "execution_count": 9,
   "metadata": {},
   "outputs": [
    {
     "ename": "KeyboardInterrupt",
     "evalue": "",
     "output_type": "error",
     "traceback": [
      "\u001b[0;31m---------------------------------------------------------------------------\u001b[0m",
      "\u001b[0;31mKeyboardInterrupt\u001b[0m                         Traceback (most recent call last)",
      "Cell \u001b[0;32mIn[9], line 13\u001b[0m\n\u001b[1;32m     11\u001b[0m \u001b[39mtry\u001b[39;00m:\n\u001b[1;32m     12\u001b[0m     audio \u001b[39m=\u001b[39m AudioSegment\u001b[39m.\u001b[39mfrom_wav(audio_path)  \u001b[39m# .wav 파일을 읽습니다.\u001b[39;00m\n\u001b[0;32m---> 13\u001b[0m     combined_audio \u001b[39m+\u001b[39m\u001b[39m=\u001b[39m audio\n\u001b[1;32m     14\u001b[0m \u001b[39mexcept\u001b[39;00m \u001b[39mException\u001b[39;00m \u001b[39mas\u001b[39;00m e:\n\u001b[1;32m     15\u001b[0m     \u001b[39mprint\u001b[39m(\u001b[39mf\u001b[39m\u001b[39m\"\u001b[39m\u001b[39mError processing \u001b[39m\u001b[39m{\u001b[39;00mfile\u001b[39m}\u001b[39;00m\u001b[39m: \u001b[39m\u001b[39m{\u001b[39;00me\u001b[39m}\u001b[39;00m\u001b[39m\"\u001b[39m)\n",
      "File \u001b[0;32m~/anaconda3/envs/torchenv/lib/python3.11/site-packages/pydub/audio_segment.py:364\u001b[0m, in \u001b[0;36mAudioSegment.__add__\u001b[0;34m(self, arg)\u001b[0m\n\u001b[1;32m    362\u001b[0m \u001b[39mdef\u001b[39;00m \u001b[39m__add__\u001b[39m(\u001b[39mself\u001b[39m, arg):\n\u001b[1;32m    363\u001b[0m     \u001b[39mif\u001b[39;00m \u001b[39misinstance\u001b[39m(arg, AudioSegment):\n\u001b[0;32m--> 364\u001b[0m         \u001b[39mreturn\u001b[39;00m \u001b[39mself\u001b[39m\u001b[39m.\u001b[39mappend(arg, crossfade\u001b[39m=\u001b[39m\u001b[39m0\u001b[39m)\n\u001b[1;32m    365\u001b[0m     \u001b[39melse\u001b[39;00m:\n\u001b[1;32m    366\u001b[0m         \u001b[39mreturn\u001b[39;00m \u001b[39mself\u001b[39m\u001b[39m.\u001b[39mapply_gain(arg)\n",
      "File \u001b[0;32m~/anaconda3/envs/torchenv/lib/python3.11/site-packages/pydub/audio_segment.py:1254\u001b[0m, in \u001b[0;36mAudioSegment.append\u001b[0;34m(self, seg, crossfade)\u001b[0m\n\u001b[1;32m   1251\u001b[0m seg1, seg2 \u001b[39m=\u001b[39m AudioSegment\u001b[39m.\u001b[39m_sync(\u001b[39mself\u001b[39m, seg)\n\u001b[1;32m   1253\u001b[0m \u001b[39mif\u001b[39;00m \u001b[39mnot\u001b[39;00m crossfade:\n\u001b[0;32m-> 1254\u001b[0m     \u001b[39mreturn\u001b[39;00m seg1\u001b[39m.\u001b[39m_spawn(seg1\u001b[39m.\u001b[39m_data \u001b[39m+\u001b[39m seg2\u001b[39m.\u001b[39m_data)\n\u001b[1;32m   1255\u001b[0m \u001b[39melif\u001b[39;00m crossfade \u001b[39m>\u001b[39m \u001b[39mlen\u001b[39m(\u001b[39mself\u001b[39m):\n\u001b[1;32m   1256\u001b[0m     \u001b[39mraise\u001b[39;00m \u001b[39mValueError\u001b[39;00m(\u001b[39m\"\u001b[39m\u001b[39mCrossfade is longer than the original AudioSegment (\u001b[39m\u001b[39m{}\u001b[39;00m\u001b[39mms > \u001b[39m\u001b[39m{}\u001b[39;00m\u001b[39mms)\u001b[39m\u001b[39m\"\u001b[39m\u001b[39m.\u001b[39mformat(\n\u001b[1;32m   1257\u001b[0m         crossfade, \u001b[39mlen\u001b[39m(\u001b[39mself\u001b[39m)\n\u001b[1;32m   1258\u001b[0m     ))\n",
      "File \u001b[0;32m~/anaconda3/envs/torchenv/lib/python3.11/site-packages/pydub/audio_segment.py:402\u001b[0m, in \u001b[0;36mAudioSegment._spawn\u001b[0;34m(self, data, overrides)\u001b[0m\n\u001b[1;32m    399\u001b[0m     \u001b[39melse\u001b[39;00m:\n\u001b[1;32m    400\u001b[0m         \u001b[39mreturn\u001b[39;00m \u001b[39mself\u001b[39m\u001b[39m.\u001b[39m_spawn(data\u001b[39m=\u001b[39m\u001b[39mself\u001b[39m\u001b[39m.\u001b[39m_data \u001b[39m*\u001b[39m arg)\n\u001b[0;32m--> 402\u001b[0m \u001b[39mdef\u001b[39;00m \u001b[39m_spawn\u001b[39m(\u001b[39mself\u001b[39m, data, overrides\u001b[39m=\u001b[39m{}):\n\u001b[1;32m    403\u001b[0m \u001b[39m    \u001b[39m\u001b[39m\"\"\"\u001b[39;00m\n\u001b[1;32m    404\u001b[0m \u001b[39m    Creates a new audio segment using the metadata from the current one\u001b[39;00m\n\u001b[1;32m    405\u001b[0m \u001b[39m    and the data passed in. Should be used whenever an AudioSegment is\u001b[39;00m\n\u001b[1;32m    406\u001b[0m \u001b[39m    being returned by an operation that would alters the current one,\u001b[39;00m\n\u001b[1;32m    407\u001b[0m \u001b[39m    since AudioSegment objects are immutable.\u001b[39;00m\n\u001b[1;32m    408\u001b[0m \u001b[39m    \"\"\"\u001b[39;00m\n\u001b[1;32m    409\u001b[0m     \u001b[39m# accept lists of data chunks\u001b[39;00m\n",
      "\u001b[0;31mKeyboardInterrupt\u001b[0m: "
     ]
    }
   ],
   "source": [
    "for folder in all_folders:\n",
    "    folder_path = os.path.join(base_folder_path, folder)\n",
    "\n",
    "    # AppleDouble 파일과 .wav 확장자만 찾습니다.\n",
    "    audio_files = [f for f in os.listdir(folder_path) if not f.startswith('._') and f.endswith('.wav')]\n",
    "    audio_files.sort()  # 파일 이름 순으로 정렬\n",
    "\n",
    "    combined_audio = AudioSegment.empty()\n",
    "    for index, file in enum erate(audio_files):\n",
    "        audio_path = os.path.join(folder_path, file)\n",
    "        try:\n",
    "            audio = AudioSegment.from_wav(audio_path)  # .wav 파일을 읽습니다.\n",
    "            combined_audio += audio\n",
    "        except Exception as e:\n",
    "            print(f\"Error processing {file}: {e}\")\n",
    "\n",
    "    # 합쳐진 오디오 파일 저장\n",
    "    os.makedirs(save_path, exist_ok=True)  # 저장 폴더가 없으면 생성합니다.\n",
    "    save_file_path = os.path.join(save_path, f\"{folder}.wav\")\n",
    "    combined_audio.export(save_file_path, format=\"wav\")\n",
    "    print(f\"Saved combined audio for '{folder}' to '{save_file_path}'\")"
   ]
  }
 ],
 "metadata": {
  "kernelspec": {
   "display_name": "torchenv",
   "language": "python",
   "name": "python3"
  },
  "language_info": {
   "codemirror_mode": {
    "name": "ipython",
    "version": 3
   },
   "file_extension": ".py",
   "mimetype": "text/x-python",
   "name": "python",
   "nbconvert_exporter": "python",
   "pygments_lexer": "ipython3",
   "version": "3.11.4"
  },
  "orig_nbformat": 4
 },
 "nbformat": 4,
 "nbformat_minor": 2
}
