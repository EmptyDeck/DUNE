{
 "cells": [
  {
   "cell_type": "code",
   "execution_count": 14,
   "metadata": {},
   "outputs": [],
   "source": [
    "import os\n",
    "import zipfile\n",
    "import pandas as pd\n",
    "import librosa\n",
    "import random\n",
    "import soundfile as sf\n",
    "import shutil"
   ]
  },
  {
   "cell_type": "code",
   "execution_count": 15,
   "metadata": {},
   "outputs": [
    {
     "data": {
      "text/plain": [
       "['113205-5-1-0']"
      ]
     },
     "execution_count": 15,
     "metadata": {},
     "output_type": "execute_result"
    }
   ],
   "source": [
    "inner_folder_path = 'fold'\n",
    "audio_files = [f for f in os.listdir(inner_folder_path) if not f.startswith(\"._\") and f.endswith(\".wav\")]\n",
    "audio_labels = [os.path.splitext(f)[0] for f in audio_files]\n",
    "\n",
    "audio_labels"
   ]
  },
  {
   "cell_type": "code",
   "execution_count": 16,
   "metadata": {},
   "outputs": [],
   "source": [
    "# 2. Parameters for audio processing\n",
    "duration = 2\n",
    "sampling_rate = 44100\n",
    "num_clips_per_label = 100\n",
    "csv_entries = []"
   ]
  },
  {
   "cell_type": "code",
   "execution_count": 20,
   "metadata": {},
   "outputs": [
    {
     "ename": "AttributeError",
     "evalue": "'list' object has no attribute 'head'",
     "output_type": "error",
     "traceback": [
      "\u001b[0;31m---------------------------------------------------------------------------\u001b[0m",
      "\u001b[0;31mAttributeError\u001b[0m                            Traceback (most recent call last)",
      "Cell \u001b[0;32mIn[20], line 29\u001b[0m\n\u001b[1;32m     18\u001b[0m         entry \u001b[39m=\u001b[39m {\n\u001b[1;32m     19\u001b[0m             \u001b[39m\"\u001b[39m\u001b[39mslice_file_name\u001b[39m\u001b[39m\"\u001b[39m: clip_filename,\n\u001b[1;32m     20\u001b[0m             \u001b[39m\"\u001b[39m\u001b[39mfsID\u001b[39m\u001b[39m\"\u001b[39m: random\u001b[39m.\u001b[39mrandint(\u001b[39m100000\u001b[39m, \u001b[39m999999\u001b[39m),\n\u001b[0;32m   (...)\u001b[0m\n\u001b[1;32m     26\u001b[0m             \u001b[39m\"\u001b[39m\u001b[39mclass\u001b[39m\u001b[39m\"\u001b[39m: audio_label\n\u001b[1;32m     27\u001b[0m         }\n\u001b[1;32m     28\u001b[0m         csv_entries\u001b[39m.\u001b[39mappend(entry)\n\u001b[0;32m---> 29\u001b[0m csv_entries\u001b[39m.\u001b[39mhead(\u001b[39m5\u001b[39m)\n",
      "\u001b[0;31mAttributeError\u001b[0m: 'list' object has no attribute 'head'"
     ]
    }
   ],
   "source": [
    "# 3. Process each audio file, extract clips, and save details to CSV\n",
    "parent_output_folder = os.path.join(\"\",'dataset2')\n",
    "for audio_label, audio_file in zip(audio_labels, audio_files):\n",
    "    file_path = os.path.join(inner_folder_path, audio_file)\n",
    "    y, sr = librosa.load(file_path, sr=sampling_rate)\n",
    "    num_samples = int(duration * sr)\n",
    "    if len(y) < num_samples:\n",
    "        continue\n",
    "    output_folder = os.path.join(parent_output_folder, audio_label)  # Place in the organized parent folder\n",
    "    os.makedirs(output_folder, exist_ok=True)\n",
    "    for i in range(num_clips_per_label):\n",
    "        start_sample = random.randint(0, len(y) - num_samples)\n",
    "        end_sample = start_sample + num_samples\n",
    "        clip = y[start_sample:end_sample]\n",
    "        clip_filename = f\"{audio_label}_cut_{i:04d}.wav\"\n",
    "        clip_filepath = os.path.join(output_folder, clip_filename)\n",
    "        sf.write(clip_filepath, clip, sr)\n",
    "        entry = {\n",
    "            \"slice_file_name\": clip_filename,\n",
    "            \"fsID\": random.randint(100000, 999999),\n",
    "            \"start\": start_sample / sr,\n",
    "            \"end\": end_sample / sr,\n",
    "            \"salience\": 1,\n",
    "            \"fold\": audio_label,  # Use label name for fold\n",
    "            \"classID\": audio_labels.index(audio_label),\n",
    "            \"class\": audio_label\n",
    "        }\n",
    "        csv_entries.append(entry)"
   ]
  },
  {
   "cell_type": "code",
   "execution_count": 18,
   "metadata": {},
   "outputs": [],
   "source": [
    "# 4. Save the CSV entries to a file\n",
    "csv_output_path = os.path.join(\"\", 'data2.csv')\n",
    "new_df = pd.DataFrame(csv_entries)\n",
    "new_df.to_csv(csv_output_path, index=False)"
   ]
  }
 ],
 "metadata": {
  "kernelspec": {
   "display_name": "torchenv",
   "language": "python",
   "name": "python3"
  },
  "language_info": {
   "codemirror_mode": {
    "name": "ipython",
    "version": 3
   },
   "file_extension": ".py",
   "mimetype": "text/x-python",
   "name": "python",
   "nbconvert_exporter": "python",
   "pygments_lexer": "ipython3",
   "version": "3.11.4"
  },
  "orig_nbformat": 4
 },
 "nbformat": 4,
 "nbformat_minor": 2
}
