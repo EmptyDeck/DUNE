{
 "cells": [
  {
   "cell_type": "code",
   "execution_count": 3,
   "metadata": {},
   "outputs": [
    {
     "data": {
      "text/plain": [
       "['jackhammer',\n",
       " 'street_music',\n",
       " 'siren',\n",
       " 'dog_bark',\n",
       " 'children_playing',\n",
       " 'air_conditioner',\n",
       " 'engine_idling',\n",
       " 'car_horn',\n",
       " 'drilling',\n",
       " 'gun_shot']"
      ]
     },
     "execution_count": 3,
     "metadata": {},
     "output_type": "execute_result"
    }
   ],
   "source": [
    "from pydub import AudioSegment\n",
    "import os\n",
    "\n",
    "base_folder_path = '/Volumes/새 볼륨/GARAGE/@DUNE/@AI/AI/archive/new/classified_folders'\n",
    "save_path = 'merged'\n",
    "\n",
    "# classified_folders 아래의 모든 폴더를 가져옵니다.\n",
    "all_folders = [folder for folder in os.listdir(base_folder_path) if os.path.isdir(os.path.join(base_folder_path, folder))]\n",
    "all_folders.remove('merged')\n",
    "\n",
    "all_folders"
   ]
  },
  {
   "cell_type": "code",
   "execution_count": 4,
   "metadata": {},
   "outputs": [
    {
     "name": "stdout",
     "output_type": "stream",
     "text": [
      "Error processing 88466-7-0-0.wav: Decoding failed. ffmpeg returned error code: 1\n",
      "\n",
      "Output from ffmpeg/avlib:\n",
      "\n",
      "ffmpeg version 5.1.2 Copyright (c) 2000-2022 the FFmpeg developers\n",
      "  built with clang version 14.0.6\n",
      "  configuration: --prefix=/Users/runner/miniforge3/conda-bld/ffmpeg_1674566267822/_h_env_placehold_placehold_placehold_placehold_placehold_placehold_placehold_placehold_placehold_placehold_placehold_placehold_placehold_placehold_placehold_placehold_placehold_placehold_placehold_pl --cc=arm64-apple-darwin20.0.0-clang --cxx=arm64-apple-darwin20.0.0-clang++ --nm=arm64-apple-darwin20.0.0-nm --ar=arm64-apple-darwin20.0.0-ar --disable-doc --disable-openssl --enable-demuxer=dash --enable-hardcoded-tables --enable-libfreetype --enable-libfontconfig --enable-libopenh264 --enable-cross-compile --arch=arm64 --target-os=darwin --cross-prefix=arm64-apple-darwin20.0.0- --host-cc=/Users/runner/miniforge3/conda-bld/ffmpeg_1674566267822/_build_env/bin/x86_64-apple-darwin13.4.0-clang --enable-neon --enable-gnutls --enable-libmp3lame --enable-libvpx --enable-pthreads --enable-gpl --enable-libx264 --enable-libx265 --enable-libaom --enable-libsvtav1 --enable-libxml2 --enable-pic --enable-shared --disable-static --enable-version3 --enable-zlib --enable-libopus --pkg-config=/Users/runner/miniforge3/conda-bld/ffmpeg_1674566267822/_build_env/bin/pkg-config\n",
      "  libavutil      57. 28.100 / 57. 28.100\n",
      "  libavcodec     59. 37.100 / 59. 37.100\n",
      "  libavformat    59. 27.100 / 59. 27.100\n",
      "  libavdevice    59.  7.100 / 59.  7.100\n",
      "  libavfilter     8. 44.100 /  8. 44.100\n",
      "  libswscale      6.  7.100 /  6.  7.100\n",
      "  libswresample   4.  7.100 /  4.  7.100\n",
      "  libpostproc    56.  6.100 / 56.  6.100\n",
      "Guessed Channel Layout for Input Stream #0.0 : mono\n",
      "Input #0, wav, from '/Volumes/새 볼륨/GARAGE/@DUNE/@AI/AI/archive/new/classified_folders/jackhammer/88466-7-0-0.wav':\n",
      "  Duration: 00:00:01.66, bitrate: 178 kb/s\n",
      "  Stream #0:0: Audio: adpcm_ms ([2][0][0][0] / 0x0002), 44100 Hz, mono, s16, 176 kb/s\n",
      "Unknown encoder 'pcm_s4le'\n",
      "\n",
      "Saved combined audio for 'jackhammer' to '/Volumes/새 볼륨/GARAGE/@DUNE/TOOLS/skiptest/merged/jackhammer/jackhammer.wav'\n"
     ]
    }
   ],
   "source": [
    "from pydub import AudioSegment\n",
    "import os\n",
    "\n",
    "base_folder_path = '/Volumes/새 볼륨/GARAGE/@DUNE/@AI/AI/archive/new/classified_folders'\n",
    "output_base_path = '/Volumes/새 볼륨/GARAGE/@DUNE/TOOLS/skiptest'\n",
    "\n",
    "all_folders = [folder for folder in os.listdir(base_folder_path) if os.path.isdir(os.path.join(base_folder_path, folder))]\n",
    "all_folders.remove('merged')\n",
    "\n",
    "skipped_files_count = 0  # Initialize a counter to keep track of skipped files\n",
    "\n",
    "for folder in all_folders:\n",
    "    folder_path = os.path.join(base_folder_path, folder)\n",
    "\n",
    "    audio_files = [f for f in os.listdir(folder_path) if not f.startswith('._') and f.endswith('.wav')]\n",
    "    audio_files.sort()\n",
    "\n",
    "    combined_audio = AudioSegment.empty()\n",
    "    for index, file in enumerate(audio_files):\n",
    "        audio_path = os.path.join(folder_path, file)\n",
    "        try:\n",
    "            audio = AudioSegment.from_wav(audio_path)\n",
    "            combined_audio += audio\n",
    "        except Exception as e:\n",
    "            print(f\"Error processing {file}: {e}\")\n",
    "            skipped_files_count += 1  # Increase the count for each skipped file\n",
    "            continue  # Skip processing this file if an error occurs\n",
    "\n",
    "    if not combined_audio:\n",
    "        print(f\"No valid audio found for '{folder}', skipping.\")\n",
    "        continue  # Skip creating the merged audio file if no valid audio is present\n",
    "\n",
    "    save_path = os.path.join(output_base_path, 'merged', folder)\n",
    "    os.makedirs(save_path, exist_ok=True)\n",
    "    save_file_path = os.path.join(save_path, f\"{folder}.wav\")\n",
    "\n",
    "    combined_audio.export(save_file_path, format=\"wav\")\n",
    "    print(f\"Saved combined audio for '{folder}' to '{save_file_path}'\")\n",
    "\n",
    "print(f\"\\nTotal files skipped due to errors: {skipped_files_count}\")\n"
   ]
  }
 ],
 "metadata": {
  "kernelspec": {
   "display_name": "torchenv",
   "language": "python",
   "name": "python3"
  },
  "language_info": {
   "codemirror_mode": {
    "name": "ipython",
    "version": 3
   },
   "file_extension": ".py",
   "mimetype": "text/x-python",
   "name": "python",
   "nbconvert_exporter": "python",
   "pygments_lexer": "ipython3",
   "version": "3.11.4"
  },
  "orig_nbformat": 4
 },
 "nbformat": 4,
 "nbformat_minor": 2
}
