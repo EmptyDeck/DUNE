{
 "cells": [
  {
   "cell_type": "code",
   "execution_count": 4,
   "metadata": {},
   "outputs": [
    {
     "data": {
      "text/plain": [
       "['bell1.gif',\n",
       " 'bell2.gif',\n",
       " 'bell3.gif',\n",
       " 'bell4.gif',\n",
       " 'dog1.gif',\n",
       " 'dog2.gif',\n",
       " 'dog3.gif',\n",
       " 'glass1.gif',\n",
       " 'glass2.gif',\n",
       " 'glass3.gif']"
      ]
     },
     "execution_count": 4,
     "metadata": {},
     "output_type": "execute_result"
    }
   ],
   "source": [
    "from PIL import Image\n",
    "import os\n",
    "\n",
    "# Define path for resized images\n",
    "resized_path = \"re\"\n",
    "image_path = 'GIF'\n",
    "extracted_files = os.listdir(image_path)\n",
    "\n",
    "# Filter out AppleDouble files and any other unwanted files\n",
    "extracted_files = [file for file in extracted_files if not file.startswith('._') and file.endswith('.gif')]\n",
    "\n",
    "os.makedirs(resized_path, exist_ok=True)\n",
    "\n",
    "# Resize gif images\n",
    "for file in extracted_files:\n",
    "    # Open the image\n",
    "    with Image.open(os.path.join(image_path, file)) as img:\n",
    "        # Resize the image\n",
    "        resized_img = img.resize((135, 135))\n",
    "        # Save the resized image\n",
    "        resized_img.save(os.path.join(resized_path, file))\n",
    "\n",
    "# List the resized images\n",
    "resized_files = os.listdir(resized_path)\n",
    "resized_files\n"
   ]
  }
 ],
 "metadata": {
  "kernelspec": {
   "display_name": "torchenv",
   "language": "python",
   "name": "python3"
  },
  "language_info": {
   "codemirror_mode": {
    "name": "ipython",
    "version": 3
   },
   "file_extension": ".py",
   "mimetype": "text/x-python",
   "name": "python",
   "nbconvert_exporter": "python",
   "pygments_lexer": "ipython3",
   "version": "3.11.4"
  },
  "orig_nbformat": 4
 },
 "nbformat": 4,
 "nbformat_minor": 2
}
